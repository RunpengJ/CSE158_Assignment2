{
 "cells": [
  {
   "cell_type": "code",
   "execution_count": 36,
   "metadata": {},
   "outputs": [],
   "source": [
    "import gzip\n",
    "from collections import defaultdict\n",
    "import math\n",
    "import scipy.optimize\n",
    "from sklearn import svm\n",
    "import numpy\n",
    "import string\n",
    "import random\n",
    "import string\n",
    "from sklearn import linear_model\n",
    "import json\n",
    "from nltk.stem import PorterStemmer\n",
    "from nltk.corpus import stopwords\n"
   ]
  },
  {
   "cell_type": "code",
   "execution_count": 3,
   "metadata": {},
   "outputs": [],
   "source": [
    "def parse(path):\n",
    "  g = gzip.open(path, 'r')\n",
    "  for l in g:\n",
    "    yield json.loads(l)"
   ]
  },
  {
   "cell_type": "code",
   "execution_count": 4,
   "metadata": {},
   "outputs": [],
   "source": [
    "users_reviews = []\n",
    "for l in parse(\"review-Hawaii_10.json.gz\"):\n",
    "  users_reviews.append(l)"
   ]
  },
  {
   "cell_type": "code",
   "execution_count": 5,
   "metadata": {},
   "outputs": [],
   "source": [
    "businesses = []\n",
    "for l in parse(\"meta-Hawaii.json.gz\"):\n",
    "  businesses.append(l)"
   ]
  },
  {
   "cell_type": "code",
   "execution_count": 6,
   "metadata": {},
   "outputs": [],
   "source": [
    "def MSE(predictions, labels):\n",
    "    differences = [(x - y) ** 2 for x, y in zip(predictions, labels)]\n",
    "    return sum(differences) / len(differences)"
   ]
  },
  {
   "cell_type": "code",
   "execution_count": 8,
   "metadata": {},
   "outputs": [
    {
     "name": "stdout",
     "output_type": "stream",
     "text": [
      "User ID: 113965417079576625433, Average Rating: 4.91\n",
      "User ID: 116655819137293331166, Average Rating: 4.73\n",
      "User ID: 100834119994550070853, Average Rating: 4.94\n",
      "User ID: 103207214144482097315, Average Rating: 4.64\n",
      "User ID: 108526171163172578599, Average Rating: 3.48\n"
     ]
    }
   ],
   "source": [
    "#user avg rating\n",
    "user_ratings = {}\n",
    "\n",
    "for review in users_reviews:\n",
    "    user_id = review.get('user_id')\n",
    "    rating = review.get('rating')\n",
    "\n",
    "    if user_id is not None and rating is not None:\n",
    "        if user_id not in user_ratings:\n",
    "            user_ratings[user_id] = {'total_rating': 0, 'count': 0}\n",
    "        \n",
    "        user_ratings[user_id]['total_rating'] += rating\n",
    "        user_ratings[user_id]['count'] += 1\n",
    "\n",
    "user_avg_ratings = {user_id: data['total_rating'] / data['count'] \n",
    "                    for user_id, data in user_ratings.items() if data['count'] > 0}\n",
    "\n",
    "for user_id in list(user_avg_ratings.keys())[:5]:\n",
    "    print(f\"User ID: {user_id}, Average Rating: {user_avg_ratings[user_id]:.2f}\")"
   ]
  },
  {
   "cell_type": "code",
   "execution_count": 9,
   "metadata": {},
   "outputs": [],
   "source": [
    "#businuess img count\n",
    "image_counts = {}\n",
    "\n",
    "for review in users_reviews:\n",
    "    gmap_id = review.get('gmap_id')\n",
    "    images = review.get('pics')\n",
    "\n",
    "    if gmap_id and images:\n",
    "        num_images = len(images)\n",
    "        if gmap_id in image_counts:\n",
    "            image_counts[gmap_id] += num_images\n",
    "        else:\n",
    "            image_counts[gmap_id] = num_images"
   ]
  },
  {
   "cell_type": "code",
   "execution_count": 10,
   "metadata": {},
   "outputs": [],
   "source": [
    "response_counts = {}\n",
    "\n",
    "for review in users_reviews:\n",
    "    gmap_id = review.get('gmap_id')\n",
    "    response = review.get('resp')\n",
    "\n",
    "    if gmap_id and response:\n",
    "        if gmap_id in response_counts:\n",
    "            response_counts[gmap_id] += 1\n",
    "        else:\n",
    "            response_counts[gmap_id] = 1"
   ]
  },
  {
   "cell_type": "code",
   "execution_count": 11,
   "metadata": {},
   "outputs": [],
   "source": [
    "users_data = [{'user_id': d['user_id'], 'gmap_id': d['gmap_id'], 'rating': d['rating'],'text': d['text']} \n",
    "              for d in users_reviews if 'user_id' in d and 'gmap_id' in d and 'rating' in d and 'text' in d]\n",
    "\n",
    "business_dict = {d['gmap_id']: {'avg_rating': d.get('avg_rating', 0), \n",
    "                                'num_of_reviews': d.get('num_of_reviews', 0)}\n",
    "                 for d in businesses if 'gmap_id' in d}\n",
    "\n",
    "dataset = []\n",
    "for user_review in users_data:\n",
    "    gmap_id = user_review['gmap_id']\n",
    "    if gmap_id in business_dict:\n",
    "        merged_data = {**user_review, **business_dict[gmap_id]}\n",
    "        dataset.append(merged_data)"
   ]
  },
  {
   "cell_type": "code",
   "execution_count": 12,
   "metadata": {},
   "outputs": [],
   "source": [
    "#add features\n",
    "for entry in dataset:\n",
    "    gmap_id = entry.get('gmap_id')\n",
    "    user_id = entry.get('user_id')\n",
    "    entry['user_avg_rating'] = user_avg_ratings[user_id]\n",
    "    entry['response_count'] = response_counts.get(gmap_id,0)\n",
    "    entry['image_counts'] = image_counts.get(gmap_id, 0)\n",
    "    "
   ]
  },
  {
   "cell_type": "code",
   "execution_count": 28,
   "metadata": {},
   "outputs": [],
   "source": [
    "# split dataset\n",
    "train_data = dataset[:int(len(dataset) * 0.9)]\n",
    "test_data = dataset[int(len(dataset) * 0.9):]\n",
    "train_users_reviews = users_reviews[:int(len(users_reviews) * 0.9)]\n",
    "test_users_reviews = users_reviews[int(len(users_reviews) * 0.9):]"
   ]
  },
  {
   "cell_type": "code",
   "execution_count": 38,
   "metadata": {},
   "outputs": [],
   "source": [
    "import nltk"
   ]
  },
  {
   "cell_type": "code",
   "execution_count": 39,
   "metadata": {},
   "outputs": [
    {
     "name": "stderr",
     "output_type": "stream",
     "text": [
      "[nltk_data] Downloading package stopwords to\n",
      "[nltk_data]     /Users/bensonjian/nltk_data...\n",
      "[nltk_data]   Unzipping corpora/stopwords.zip.\n"
     ]
    },
    {
     "data": {
      "text/plain": [
       "True"
      ]
     },
     "execution_count": 39,
     "metadata": {},
     "output_type": "execute_result"
    }
   ],
   "source": [
    "nltk.download('stopwords')"
   ]
  },
  {
   "cell_type": "code",
   "execution_count": 40,
   "metadata": {},
   "outputs": [
    {
     "data": {
      "text/plain": [
       "311649"
      ]
     },
     "execution_count": 40,
     "metadata": {},
     "output_type": "execute_result"
    }
   ],
   "source": [
    "# lowercase, punctuation removed, no stemming\n",
    "wordCount = defaultdict(int)\n",
    "punctuation = set(string.punctuation)\n",
    "stop_words = set(stopwords.words('english'))\n",
    "# stemmer = PorterStemmer()\n",
    "for d in train_data:\n",
    "    if d['text']:\n",
    "        r = ''.join([c for c in d['text'].lower() if not c in punctuation])\n",
    "        ws = [w for w in r.split() if w not in stop_words]\n",
    "        for w in ws:\n",
    "            # w = stemmer.stem(w)\n",
    "            wordCount[w] += 1\n",
    "len(wordCount)"
   ]
  },
  {
   "cell_type": "code",
   "execution_count": 41,
   "metadata": {},
   "outputs": [],
   "source": [
    "counts = [(wordCount[w], w) for w in wordCount]\n",
    "counts.sort(reverse=True)\n",
    "words = [x[1] for x in counts[:1000]]"
   ]
  },
  {
   "cell_type": "code",
   "execution_count": 42,
   "metadata": {},
   "outputs": [
    {
     "data": {
      "text/plain": [
       "['great',\n",
       " 'good',\n",
       " 'food',\n",
       " 'place',\n",
       " 'service',\n",
       " 'nice',\n",
       " 'original',\n",
       " 'google',\n",
       " 'translated',\n",
       " 'best',\n",
       " 'friendly',\n",
       " 'staff',\n",
       " 'get',\n",
       " 'go',\n",
       " 'time',\n",
       " 'like',\n",
       " 'one',\n",
       " 'beach',\n",
       " 'beautiful',\n",
       " 'delicious',\n",
       " 'love',\n",
       " 'always',\n",
       " 'also',\n",
       " 'really',\n",
       " 'parking',\n",
       " 'amazing',\n",
       " 'awesome',\n",
       " 'little',\n",
       " 'people',\n",
       " 'well',\n",
       " 'back',\n",
       " 'would',\n",
       " 'prices',\n",
       " 'store',\n",
       " 'excellent',\n",
       " 'island',\n",
       " 'see',\n",
       " 'clean',\n",
       " 'dont',\n",
       " 'got',\n",
       " 'lot',\n",
       " 'location',\n",
       " 'even',\n",
       " 'worth',\n",
       " 'price',\n",
       " 'eat',\n",
       " 'much',\n",
       " 'view',\n",
       " 'local',\n",
       " 'small',\n",
       " 'restaurant',\n",
       " 'fun',\n",
       " 'coffee',\n",
       " 'experience',\n",
       " 'day',\n",
       " 'lots',\n",
       " 'pretty',\n",
       " 'fresh',\n",
       " 'area',\n",
       " 'us',\n",
       " 'recommend',\n",
       " 'many',\n",
       " 'everything',\n",
       " 'take',\n",
       " 'went',\n",
       " 'better',\n",
       " 'wait',\n",
       " 'hawaii',\n",
       " 'fish',\n",
       " 'order',\n",
       " 'make',\n",
       " 'definitely',\n",
       " 'way',\n",
       " 'selection',\n",
       " 'shop',\n",
       " 'fast',\n",
       " 'around',\n",
       " 'water',\n",
       " 'need',\n",
       " 'come',\n",
       " 'super',\n",
       " 'right',\n",
       " 'helpful',\n",
       " 'chicken',\n",
       " 'try',\n",
       " 'park',\n",
       " 'big',\n",
       " 'visit',\n",
       " 'views',\n",
       " 'bit',\n",
       " 'find',\n",
       " 'menu',\n",
       " 'spot',\n",
       " 'want',\n",
       " 'first',\n",
       " 'long',\n",
       " 'atmosphere',\n",
       " 'drinks',\n",
       " 'favorite',\n",
       " 'could']"
      ]
     },
     "execution_count": 42,
     "metadata": {},
     "output_type": "execute_result"
    }
   ],
   "source": [
    "words[:100]"
   ]
  },
  {
   "cell_type": "code",
   "execution_count": 43,
   "metadata": {},
   "outputs": [],
   "source": [
    "wordID = dict(zip(words, range(len(words))))\n",
    "wordSet = set(words)"
   ]
  },
  {
   "cell_type": "code",
   "execution_count": 57,
   "metadata": {},
   "outputs": [],
   "source": [
    "def feature(datum):\n",
    "    feat = [0]*len(words)\n",
    "    if datum['text']:\n",
    "        r = ''.join([c for c in datum['text'].lower() if not c in punctuation])\n",
    "        ws = [w for w in r.split() if w not in stop_words]\n",
    "        for w in ws:\n",
    "            if w in words:\n",
    "                feat[wordID[w]] += 1\n",
    "    feat.append(1) #offset\n",
    "    return feat"
   ]
  },
  {
   "cell_type": "code",
   "execution_count": 58,
   "metadata": {},
   "outputs": [],
   "source": [
    "train_X = [feature(d) for d in train_data]\n",
    "train_y = [u['rating'] for u in train_users_reviews]\n",
    "test_X = [feature(d) for d in test_data]\n",
    "test_y = [u['rating'] for u in test_users_reviews]"
   ]
  },
  {
   "cell_type": "code",
   "execution_count": 59,
   "metadata": {},
   "outputs": [],
   "source": [
    "# regularized regression\n",
    "clf = linear_model.Ridge(1.0, fit_intercept=False)\n",
    "clf.fit(train_X, train_y)\n",
    "theta = clf.coef_\n",
    "train_predictions = clf.predict(train_X)\n",
    "test_predictions = clf.predict(test_X)"
   ]
  },
  {
   "cell_type": "code",
   "execution_count": 60,
   "metadata": {},
   "outputs": [
    {
     "name": "stdout",
     "output_type": "stream",
     "text": [
      "train mse: 0.7099192239329473\n",
      "test mse: 0.6224833976559787\n"
     ]
    }
   ],
   "source": [
    "train_mse = MSE(train_predictions, train_y)\n",
    "test_mse = MSE(test_predictions, test_y)\n",
    "print(f'train mse: {train_mse}')\n",
    "print(f'test mse: {test_mse}')"
   ]
  },
  {
   "cell_type": "code",
   "execution_count": 61,
   "metadata": {},
   "outputs": [],
   "source": [
    "wordSort = list(zip(theta, words))\n",
    "wordSort.sort()"
   ]
  },
  {
   "cell_type": "code",
   "execution_count": 62,
   "metadata": {},
   "outputs": [
    {
     "data": {
      "text/plain": [
       "[(-1.327276586668271, 'worst'),\n",
       " (-1.1900794552149985, 'horrible'),\n",
       " (-1.1091567561356912, 'terrible'),\n",
       " (-1.105245298123043, 'rude'),\n",
       " (-1.084665176556934, 'poor'),\n",
       " (-0.9498497118404947, 'overpriced'),\n",
       " (-0.838752728986792, 'dirty'),\n",
       " (-0.7252086338199372, 'homeless'),\n",
       " (-0.7175400282410713, 'slow'),\n",
       " (-0.5421720821710071, 'ok'),\n",
       " (-0.5116224837929986, 'sad'),\n",
       " (-0.49177798928451977, 'expensive'),\n",
       " (-0.47869827880830723, 'average'),\n",
       " (-0.46923581532118736, 'okay'),\n",
       " (-0.46166266619972285, 'closed'),\n",
       " (-0.40780496865091137, 'priced'),\n",
       " (-0.40114313289268966, 'nothing'),\n",
       " (-0.4004991815248283, 'dry'),\n",
       " (-0.38043864858591114, 'bad'),\n",
       " (-0.37642970981428686, 'sorry'),\n",
       " (-0.36285863860615264, 'waited'),\n",
       " (-0.36106212436378265, 'salty'),\n",
       " (-0.3452652029334908, 'disappointed'),\n",
       " (-0.3094833250172318, 'empty'),\n",
       " (-0.3064028190804877, 'needs'),\n",
       " (-0.291613708838876, 'money'),\n",
       " (-0.29041736393532014, 'tourist'),\n",
       " (-0.28953233755898594, 'pricey'),\n",
       " (-0.28097528016852086, 'loud'),\n",
       " (-0.27782281157827265, 'unfortunately'),\n",
       " (-0.2572772426104065, 'avoid'),\n",
       " (-0.2525889805983473, 'cashier'),\n",
       " (-0.24598578149964337, 'guess'),\n",
       " (-0.24594889146340806, 'wouldnt'),\n",
       " (-0.24279631925216913, 'paid'),\n",
       " (-0.2340234616448431, 'cold'),\n",
       " (-0.23327088921300906, 'typical'),\n",
       " (-0.22491820607160687, 'mcdonalds'),\n",
       " (-0.21562640874941552, 'charge'),\n",
       " (-0.21146513986034426, 'wont'),\n",
       " (-0.20912169997745705, 'wasnt'),\n",
       " (-0.2080294176282242, 'gone'),\n",
       " (-0.204263468131575, 'wrong'),\n",
       " (-0.20388855823432098, 'thru'),\n",
       " (-0.20004829614183117, 'tasted'),\n",
       " (-0.19627806390229977, 'run'),\n",
       " (-0.19589359478300525, 'customers'),\n",
       " (-0.1956595031450908, 'unless'),\n",
       " (-0.1922942840954209, 'never'),\n",
       " (-0.19151080697853737, 'old'),\n",
       " (-0.19035896545171543, 'decent'),\n",
       " (-0.18951590619441172, 'limited'),\n",
       " (-0.1891430259366234, 'dont'),\n",
       " (-0.18443199497930327, 'phone'),\n",
       " (-0.17930957016902735, 'restroom'),\n",
       " (-0.17720224786022135, 'didnt'),\n",
       " (-0.17446094017526556, 'higher'),\n",
       " (-0.17269809396250663, 'used'),\n",
       " (-0.1717454681870709, 'normal'),\n",
       " (-0.1713322043401866, 'crowded'),\n",
       " (-0.17056511971425287, 'longer'),\n",
       " (-0.16697361130805788, 'couldnt'),\n",
       " (-0.165989680780663, 'instead'),\n",
       " (-0.165771711250575, 'left'),\n",
       " (-0.16538744455186272, 'stock'),\n",
       " (-0.1639368543957932, 'star'),\n",
       " (-0.16308202138792596, 'doesnt'),\n",
       " (-0.1605386969021379, 'company'),\n",
       " (-0.15702026990426943, 'kinda'),\n",
       " (-0.15701680508946894, 'fan'),\n",
       " (-0.1567450392994759, 'high'),\n",
       " (-0.1539760736050679, 'seemed'),\n",
       " (-0.15393376476188542, 'otherwise'),\n",
       " (-0.15263949581611413, 'don’t'),\n",
       " (-0.15211661912821378, 'impressed'),\n",
       " (-0.15133635221632805, 'tourists'),\n",
       " (-0.1512276032999523, 'rather'),\n",
       " (-0.1507530016695815, 'employees'),\n",
       " (-0.1475636976484603, 'isnt'),\n",
       " (-0.14554278518726005, 'waitress'),\n",
       " (-0.14441101388103553, 'hour'),\n",
       " (-0.14250890521277942, 'mostly'),\n",
       " (-0.1415368289248729, 'seem'),\n",
       " (-0.1398921725425781, 'cooked'),\n",
       " (-0.13885584256188724, 'walmart'),\n",
       " (-0.13784264561324555, 'bathroom'),\n",
       " (-0.13669692827094312, 'expected'),\n",
       " (-0.1358519732344474, 'bathrooms'),\n",
       " (-0.13361402887443807, 'taste'),\n",
       " (-0.13359737213763417, 'business'),\n",
       " (-0.13177274552572266, 'told'),\n",
       " (-0.13010126487378967, 'lines'),\n",
       " (-0.1297052352239936, 'hard'),\n",
       " (-0.12867873822419962, 'hit'),\n",
       " (-0.1280506045010422, 'pay'),\n",
       " (-0.12777046325948518, 'ago'),\n",
       " (-0.1273566782487592, 'rough'),\n",
       " (-0.12734809721834447, 'however'),\n",
       " (-0.12691485736245925, 'looks'),\n",
       " (-0.12650876233534222, 'workers')]"
      ]
     },
     "execution_count": 62,
     "metadata": {},
     "output_type": "execute_result"
    }
   ],
   "source": [
    "wordSort[:100]"
   ]
  },
  {
   "cell_type": "code",
   "execution_count": null,
   "metadata": {},
   "outputs": [],
   "source": []
  }
 ],
 "metadata": {
  "kernelspec": {
   "display_name": "Python 3.9.6 64-bit",
   "language": "python",
   "name": "python3"
  },
  "language_info": {
   "codemirror_mode": {
    "name": "ipython",
    "version": 3
   },
   "file_extension": ".py",
   "mimetype": "text/x-python",
   "name": "python",
   "nbconvert_exporter": "python",
   "pygments_lexer": "ipython3",
   "version": "3.10.9"
  },
  "vscode": {
   "interpreter": {
    "hash": "31f2aee4e71d21fbe5cf8b01ff0e069b9275f58929596ceb00d14d90e3e16cd6"
   }
  }
 },
 "nbformat": 4,
 "nbformat_minor": 2
}
