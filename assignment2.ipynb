{
 "cells": [
  {
   "cell_type": "code",
   "execution_count": 1,
   "metadata": {},
   "outputs": [],
   "source": [
    "import gzip\n",
    "from collections import defaultdict\n",
    "import math\n",
    "import scipy.optimize\n",
    "from sklearn import svm\n",
    "import numpy\n",
    "import string\n",
    "import random\n",
    "import string\n",
    "import json"
   ]
  },
  {
   "cell_type": "code",
   "execution_count": 2,
   "metadata": {},
   "outputs": [],
   "source": [
    "def parse(path):\n",
    "  g = gzip.open(path, 'r')\n",
    "  for l in g:\n",
    "    yield json.loads(l)"
   ]
  },
  {
   "cell_type": "code",
   "execution_count": 3,
   "metadata": {},
   "outputs": [],
   "source": [
    "users_reviews = []\n",
    "for l in parse(\"review-Hawaii_10.json.gz\"):\n",
    "  users_reviews.append(l)"
   ]
  },
  {
   "cell_type": "code",
   "execution_count": 4,
   "metadata": {},
   "outputs": [
    {
     "data": {
      "text/plain": [
       "{'user_id': '113965417079576625433',\n",
       " 'name': 'manuel grimaldo',\n",
       " 'time': 1591839903487,\n",
       " 'rating': 5,\n",
       " 'text': 'Great new upgrade',\n",
       " 'pics': None,\n",
       " 'resp': None,\n",
       " 'gmap_id': '0x7c00159b5b1b1d25:0x8d2d85d4a758290e'}"
      ]
     },
     "execution_count": 4,
     "metadata": {},
     "output_type": "execute_result"
    }
   ],
   "source": [
    "users_reviews[0]"
   ]
  },
  {
   "cell_type": "code",
   "execution_count": 5,
   "metadata": {},
   "outputs": [],
   "source": [
    "businesses = []\n",
    "for l in parse(\"meta-Hawaii.json.gz\"):\n",
    "  businesses.append(l)"
   ]
  },
  {
   "cell_type": "code",
   "execution_count": 6,
   "metadata": {},
   "outputs": [
    {
     "data": {
      "text/plain": [
       "{'name': 'Hale Pops',\n",
       " 'address': 'Hale Pops, 55-370 Kamehameha Hwy, Laie, HI 96762',\n",
       " 'gmap_id': '0x7c00456eecad3111:0x8217f9600c51f33',\n",
       " 'description': None,\n",
       " 'latitude': 21.637795699999998,\n",
       " 'longitude': -157.9207142,\n",
       " 'category': ['Restaurant'],\n",
       " 'avg_rating': 4.4,\n",
       " 'num_of_reviews': 18,\n",
       " 'price': None,\n",
       " 'hours': [['Thursday', '11AM–8PM'],\n",
       "  ['Friday', '11AM–8PM'],\n",
       "  ['Saturday', '11AM–8PM'],\n",
       "  ['Sunday', 'Closed'],\n",
       "  ['Monday', '11AM–8PM'],\n",
       "  ['Tuesday', '11AM–8PM'],\n",
       "  ['Wednesday', '11AM–8PM']],\n",
       " 'MISC': {'Service options': ['Outdoor seating', 'Takeout', 'Delivery'],\n",
       "  'Popular for': ['Lunch', 'Solo dining'],\n",
       "  'Accessibility': ['Wheelchair accessible entrance'],\n",
       "  'Offerings': ['Comfort food', 'Quick bite'],\n",
       "  'Amenities': ['Good for kids'],\n",
       "  'Atmosphere': ['Casual'],\n",
       "  'Crowd': ['Groups', 'Tourists'],\n",
       "  'Payments': ['NFC mobile payments']},\n",
       " 'state': 'Closed ⋅ Opens 11AM',\n",
       " 'relative_results': ['0x7c00451360f80cf1:0x930291a38bab3132',\n",
       "  '0x7c00457322571d57:0xe3974e89bbfc41ce',\n",
       "  '0x7c0045173c1aa2f1:0xf79112d075128937',\n",
       "  '0x7c00504a8dc1b0b7:0x5cd641e56c7ad9e',\n",
       "  '0x7c00456f42129445:0xda91d3d21022933b'],\n",
       " 'url': 'https://www.google.com/maps/place//data=!4m2!3m1!1s0x7c00456eecad3111:0x8217f9600c51f33?authuser=-1&hl=en&gl=us'}"
      ]
     },
     "execution_count": 6,
     "metadata": {},
     "output_type": "execute_result"
    }
   ],
   "source": [
    "businesses[0]"
   ]
  },
  {
   "cell_type": "markdown",
   "metadata": {},
   "source": [
    "## Linear Regression"
   ]
  },
  {
   "cell_type": "code",
   "execution_count": 7,
   "metadata": {},
   "outputs": [],
   "source": [
    "from sklearn import linear_model"
   ]
  },
  {
   "cell_type": "code",
   "execution_count": 8,
   "metadata": {},
   "outputs": [
    {
     "name": "stdout",
     "output_type": "stream",
     "text": [
      "User ID: 113965417079576625433, Average Rating: 4.91\n",
      "User ID: 116655819137293331166, Average Rating: 4.73\n",
      "User ID: 100834119994550070853, Average Rating: 4.94\n",
      "User ID: 103207214144482097315, Average Rating: 4.64\n",
      "User ID: 108526171163172578599, Average Rating: 3.48\n"
     ]
    }
   ],
   "source": [
    "#user avg rating\n",
    "user_ratings = {}\n",
    "\n",
    "for review in users_reviews:\n",
    "    user_id = review.get('user_id')\n",
    "    rating = review.get('rating')\n",
    "\n",
    "    if user_id is not None and rating is not None:\n",
    "        if user_id not in user_ratings:\n",
    "            user_ratings[user_id] = {'total_rating': 0, 'count': 0}\n",
    "        \n",
    "        user_ratings[user_id]['total_rating'] += rating\n",
    "        user_ratings[user_id]['count'] += 1\n",
    "\n",
    "user_avg_ratings = {user_id: data['total_rating'] / data['count'] \n",
    "                    for user_id, data in user_ratings.items() if data['count'] > 0}\n",
    "\n",
    "for user_id in list(user_avg_ratings.keys())[:5]:\n",
    "    print(f\"User ID: {user_id}, Average Rating: {user_avg_ratings[user_id]:.2f}\")"
   ]
  },
  {
   "cell_type": "code",
   "execution_count": 9,
   "metadata": {},
   "outputs": [],
   "source": [
    "users_data = [{'user_id': d['user_id'], 'gmap_id': d['gmap_id'], 'rating': d['rating'],'text': d['text']} \n",
    "              for d in users_reviews if 'user_id' in d and 'gmap_id' in d and 'rating' in d and 'text' in d]\n",
    "\n",
    "business_dict = {d['gmap_id']: {'avg_rating': d.get('avg_rating', 0), \n",
    "                                'num_of_reviews': d.get('num_of_reviews', 0)}\n",
    "                 for d in businesses if 'gmap_id' in d}\n",
    "\n",
    "dataset = []\n",
    "for user_review in users_data:\n",
    "    gmap_id = user_review['gmap_id']\n",
    "    if gmap_id in business_dict:\n",
    "        merged_data = {**user_review, **business_dict[gmap_id]}\n",
    "        dataset.append(merged_data)"
   ]
  },
  {
   "cell_type": "code",
   "execution_count": 10,
   "metadata": {},
   "outputs": [],
   "source": [
    "#add user_avg_rating to dataset\n",
    "for entry in dataset:\n",
    "    user_id = entry.get('user_id')\n",
    "    if user_id in user_avg_ratings:\n",
    "        entry['user_avg_rating'] = user_avg_ratings[user_id]\n",
    "    else:\n",
    "        entry['user_avg_rating'] = None"
   ]
  },
  {
   "cell_type": "code",
   "execution_count": 11,
   "metadata": {},
   "outputs": [
    {
     "data": {
      "text/plain": [
       "{'user_id': '113965417079576625433',\n",
       " 'gmap_id': '0x7c00159b5b1b1d25:0x8d2d85d4a758290e',\n",
       " 'rating': 5,\n",
       " 'text': 'Great new upgrade',\n",
       " 'avg_rating': 4.1,\n",
       " 'num_of_reviews': 18,\n",
       " 'user_avg_rating': 4.909090909090909}"
      ]
     },
     "execution_count": 11,
     "metadata": {},
     "output_type": "execute_result"
    }
   ],
   "source": [
    "dataset[0]"
   ]
  },
  {
   "cell_type": "code",
   "execution_count": 12,
   "metadata": {},
   "outputs": [],
   "source": [
    "def MSE(predictions, labels):\n",
    "    differences = [(x - y) ** 2 for x, y in zip(predictions, labels)]\n",
    "    return sum(differences) / len(differences)"
   ]
  },
  {
   "cell_type": "code",
   "execution_count": 13,
   "metadata": {},
   "outputs": [],
   "source": [
    "# split dataset\n",
    "train_data = dataset[:int(len(dataset) * 0.9)]\n",
    "test_data = dataset[int(len(dataset) * 0.9):]\n",
    "train_users_reviews = users_reviews[:int(len(users_reviews) * 0.9)]\n",
    "test_users_reviews = users_reviews[int(len(users_reviews) * 0.9):]"
   ]
  },
  {
   "cell_type": "markdown",
   "metadata": {},
   "source": [
    "### Baseline 1"
   ]
  },
  {
   "cell_type": "code",
   "execution_count": 19,
   "metadata": {},
   "outputs": [],
   "source": [
    "# extract features\n",
    "train_X = [[1, d['avg_rating']] for d in train_data]\n",
    "test_X = [[1, d['avg_rating']] for d in test_data]\n",
    "train_y = [u['rating'] for u in train_users_reviews]\n",
    "test_y = [u['rating'] for u in test_users_reviews]"
   ]
  },
  {
   "cell_type": "code",
   "execution_count": 20,
   "metadata": {},
   "outputs": [],
   "source": [
    "# train model\n",
    "model = linear_model.LinearRegression()\n",
    "model.fit(train_X, train_y)\n",
    "predictions = model.predict(test_X)"
   ]
  },
  {
   "cell_type": "code",
   "execution_count": 21,
   "metadata": {},
   "outputs": [
    {
     "data": {
      "text/plain": [
       "array([4.49372669, 4.49372669, 4.49372669, 4.49372669, 4.49372669,\n",
       "       4.49372669, 4.49372669, 4.49372669, 4.49372669, 4.49372669])"
      ]
     },
     "execution_count": 21,
     "metadata": {},
     "output_type": "execute_result"
    }
   ],
   "source": [
    "predictions[:10]"
   ]
  },
  {
   "cell_type": "code",
   "execution_count": 23,
   "metadata": {},
   "outputs": [
    {
     "data": {
      "text/plain": [
       "0.820887191898084"
      ]
     },
     "execution_count": 23,
     "metadata": {},
     "output_type": "execute_result"
    }
   ],
   "source": [
    "mse = MSE(predictions, test_y)\n",
    "mse"
   ]
  },
  {
   "cell_type": "markdown",
   "metadata": {},
   "source": [
    "### Baseline 2"
   ]
  },
  {
   "cell_type": "code",
   "execution_count": null,
   "metadata": {},
   "outputs": [],
   "source": []
  }
 ],
 "metadata": {
  "kernelspec": {
   "display_name": "Python 3.9.6 64-bit",
   "language": "python",
   "name": "python3"
  },
  "language_info": {
   "codemirror_mode": {
    "name": "ipython",
    "version": 3
   },
   "file_extension": ".py",
   "mimetype": "text/x-python",
   "name": "python",
   "nbconvert_exporter": "python",
   "pygments_lexer": "ipython3",
   "version": "3.10.9"
  },
  "vscode": {
   "interpreter": {
    "hash": "31f2aee4e71d21fbe5cf8b01ff0e069b9275f58929596ceb00d14d90e3e16cd6"
   }
  }
 },
 "nbformat": 4,
 "nbformat_minor": 2
}
