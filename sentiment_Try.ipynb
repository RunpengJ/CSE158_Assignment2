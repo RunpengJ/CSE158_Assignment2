{
 "cells": [
  {
   "cell_type": "code",
   "execution_count": 57,
   "metadata": {},
   "outputs": [],
   "source": [
    "import gzip\n",
    "from collections import defaultdict\n",
    "import math\n",
    "import scipy.optimize\n",
    "import numpy as np\n",
    "import string\n",
    "import random\n",
    "import json\n",
    "from sklearn import linear_model\n",
    "from sklearn.ensemble import RandomForestRegressor\n",
    "from sklearn.metrics import accuracy_score, classification_report\n",
    "from sklearn.model_selection import train_test_split, GridSearchCV\n",
    "from sklearn.metrics import mean_squared_error\n",
    "from sklearn.ensemble import GradientBoostingRegressor\n",
    "import xgboost as xgb\n",
    "from textblob import TextBlob\n",
    "import nltk\n"
   ]
  },
  {
   "cell_type": "code",
   "execution_count": 58,
   "metadata": {},
   "outputs": [
    {
     "name": "stderr",
     "output_type": "stream",
     "text": [
      "[nltk_data] Downloading package vader_lexicon to\n",
      "[nltk_data]     /Users/zhengz/nltk_data...\n",
      "[nltk_data]   Package vader_lexicon is already up-to-date!\n"
     ]
    },
    {
     "data": {
      "text/plain": [
       "True"
      ]
     },
     "execution_count": 58,
     "metadata": {},
     "output_type": "execute_result"
    }
   ],
   "source": [
    "nltk.download('vader_lexicon')\n"
   ]
  },
  {
   "cell_type": "code",
   "execution_count": 59,
   "metadata": {},
   "outputs": [],
   "source": [
    "def parse(path):\n",
    "  g = gzip.open(path, 'r')\n",
    "  for l in g:\n",
    "    yield json.loads(l)"
   ]
  },
  {
   "cell_type": "code",
   "execution_count": 60,
   "metadata": {},
   "outputs": [],
   "source": [
    "users_reviews = [l for l in parse(\"review-Hawaii_10.json.gz\")]\n",
    "businesses = [l for l in parse(\"meta-Hawaii.json.gz\")]"
   ]
  },
  {
   "cell_type": "markdown",
   "metadata": {},
   "source": [
    "### Feature Engineering"
   ]
  },
  {
   "cell_type": "code",
   "execution_count": 61,
   "metadata": {},
   "outputs": [
    {
     "name": "stdout",
     "output_type": "stream",
     "text": [
      "User ID: 113965417079576625433, Average Rating: 4.91\n",
      "User ID: 116655819137293331166, Average Rating: 4.73\n",
      "User ID: 100834119994550070853, Average Rating: 4.94\n",
      "User ID: 103207214144482097315, Average Rating: 4.64\n",
      "User ID: 108526171163172578599, Average Rating: 3.48\n"
     ]
    }
   ],
   "source": [
    "#user avg rating\n",
    "user_ratings = {}\n",
    "\n",
    "for review in users_reviews:\n",
    "    user_id = review.get('user_id')\n",
    "    rating = review.get('rating')\n",
    "\n",
    "    if user_id is not None and rating is not None:\n",
    "        if user_id not in user_ratings:\n",
    "            user_ratings[user_id] = {'total_rating': 0, 'count': 0}\n",
    "        \n",
    "        user_ratings[user_id]['total_rating'] += rating\n",
    "        user_ratings[user_id]['count'] += 1\n",
    "\n",
    "user_avg_ratings = {user_id: data['total_rating'] / data['count'] \n",
    "                    for user_id, data in user_ratings.items() if data['count'] > 0}\n",
    "\n",
    "for user_id in list(user_avg_ratings.keys())[:5]:\n",
    "    print(f\"User ID: {user_id}, Average Rating: {user_avg_ratings[user_id]:.2f}\")"
   ]
  },
  {
   "cell_type": "code",
   "execution_count": 62,
   "metadata": {},
   "outputs": [],
   "source": [
    "#businuess img count\n",
    "image_counts = {}\n",
    "\n",
    "for review in users_reviews:\n",
    "    gmap_id = review.get('gmap_id')\n",
    "    images = review.get('pics')\n",
    "\n",
    "    if gmap_id and images:\n",
    "        num_images = len(images)\n",
    "        if gmap_id in image_counts:\n",
    "            image_counts[gmap_id] += num_images\n",
    "        else:\n",
    "            image_counts[gmap_id] = num_images"
   ]
  },
  {
   "cell_type": "code",
   "execution_count": 63,
   "metadata": {},
   "outputs": [],
   "source": [
    "response_counts = {}\n",
    "\n",
    "for review in users_reviews:\n",
    "    gmap_id = review.get('gmap_id')\n",
    "    response = review.get('resp')\n",
    "\n",
    "    if gmap_id and response:\n",
    "        if gmap_id in response_counts:\n",
    "            response_counts[gmap_id] += 1\n",
    "        else:\n",
    "            response_counts[gmap_id] = 1"
   ]
  },
  {
   "cell_type": "code",
   "execution_count": 71,
   "metadata": {},
   "outputs": [],
   "source": [
    "users_data = [{'user_id': d['user_id'], 'gmap_id': d['gmap_id'], 'rating': d['rating'],'text': d['text']} \n",
    "              for d in users_reviews if 'user_id' in d and 'gmap_id' in d and 'rating' in d and 'text' in d]\n",
    "\n",
    "business_dict = {d['gmap_id']: {'avg_rating': d.get('avg_rating', 0), \n",
    "                                'num_of_reviews': d.get('num_of_reviews', 0)}\n",
    "                 for d in businesses if 'gmap_id' in d}"
   ]
  },
  {
   "cell_type": "markdown",
   "metadata": {},
   "source": [
    "#### Sentiment analysis"
   ]
  },
  {
   "cell_type": "code",
   "execution_count": 65,
   "metadata": {},
   "outputs": [],
   "source": [
    "from nltk.sentiment import SentimentIntensityAnalyzer\n",
    "sid = SentimentIntensityAnalyzer()\n",
    "\n",
    "def get_sentiment_score(text):\n",
    "    if text is None:\n",
    "        return 0  # Return a neutral sentiment score for missing text\n",
    "    sentiment_scores = sid.polarity_scores(text)\n",
    "    return sentiment_scores['compound']"
   ]
  },
  {
   "cell_type": "code",
   "execution_count": 66,
   "metadata": {},
   "outputs": [],
   "source": [
    "from textblob import TextBlob\n",
    "\n",
    "def get_textblob_score(text):\n",
    "    if text is None:\n",
    "        return 0  # Return a neutral sentiment score for missing text\n",
    "    testimonial = TextBlob(text)\n",
    "    return testimonial.sentiment.polarity"
   ]
  },
  {
   "cell_type": "code",
   "execution_count": 105,
   "metadata": {},
   "outputs": [],
   "source": [
    "features = [{'user_id': d['user_id'], 'gmap_id': d['gmap_id'], \n",
    "             'user_avg_rating': user_avg_ratings[d['user_id']], \n",
    "             'response_count': response_counts.get(d['gmap_id'], 0), \n",
    "             'image_counts': image_counts.get(d['gmap_id'], 0),\n",
    "             'bus_avg_rating': business_dict[d['gmap_id']]['avg_rating'], \n",
    "             'num_of_reviews': business_dict[d['gmap_id']]['num_of_reviews'],\n",
    "             'sentiment_score': get_sentiment_score(d['text'])}  # Add sentiment score here\n",
    "            for d in users_reviews if 'user_id' in d and 'gmap_id' in d and 'rating' in d and 'text' in d]\n",
    "\n",
    "labels = [d['rating'] for d in users_reviews if 'user_id' in d and 'gmap_id' in d and 'rating' in d and 'text' in d]"
   ]
  },
  {
   "cell_type": "code",
   "execution_count": 106,
   "metadata": {},
   "outputs": [
    {
     "data": {
      "text/plain": [
       "{'user_id': '113965417079576625433',\n",
       " 'gmap_id': '0x7c00159b5b1b1d25:0x8d2d85d4a758290e',\n",
       " 'user_avg_rating': 4.909090909090909,\n",
       " 'response_count': 0,\n",
       " 'image_counts': 0,\n",
       " 'bus_avg_rating': 4.1,\n",
       " 'num_of_reviews': 18,\n",
       " 'sentiment_score': 0.6249}"
      ]
     },
     "execution_count": 106,
     "metadata": {},
     "output_type": "execute_result"
    }
   ],
   "source": [
    "features[0]"
   ]
  },
  {
   "cell_type": "code",
   "execution_count": 107,
   "metadata": {},
   "outputs": [],
   "source": [
    "random.seed(12345)\n",
    "combined = list(zip(features, labels))\n",
    "random.shuffle(combined)\n",
    "features[:], labels[:] = zip(*combined)"
   ]
  },
  {
   "cell_type": "code",
   "execution_count": 108,
   "metadata": {},
   "outputs": [],
   "source": [
    "split_index = int(len(features) * 0.9)\n",
    "train_features = features[:split_index]\n",
    "test_features = features[split_index:]\n",
    "train_labels = labels[:split_index]\n",
    "test_labels = labels[split_index:]"
   ]
  },
  {
   "cell_type": "markdown",
   "metadata": {},
   "source": [
    "### GradientBoostingRegressor"
   ]
  },
  {
   "cell_type": "code",
   "execution_count": 109,
   "metadata": {},
   "outputs": [],
   "source": [
    "train_X = [[1, d['user_avg_rating'], d['bus_avg_rating'],d['num_of_reviews'], d['image_counts'],d['sentiment_score']] for d in train_features]\n",
    "test_X = [[1, d['user_avg_rating'], d['bus_avg_rating'],d['num_of_reviews'], d['image_counts'],d['sentiment_score']] for d in test_features]\n",
    "\n",
    "train_y = train_labels\n",
    "test_y = test_labels"
   ]
  },
  {
   "cell_type": "code",
   "execution_count": 110,
   "metadata": {},
   "outputs": [
    {
     "name": "stdout",
     "output_type": "stream",
     "text": [
      "MSE: 0.492730813318984\n"
     ]
    }
   ],
   "source": [
    "gb_regressor = GradientBoostingRegressor(n_estimators=100, learning_rate=1, random_state=42)\n",
    "\n",
    "gb_regressor.fit(train_X, train_y)\n",
    "\n",
    "predictions = gb_regressor.predict(test_X)\n",
    "\n",
    "mse = mean_squared_error(test_y, predictions)\n",
    "print(f'MSE: {mse}')\n"
   ]
  },
  {
   "cell_type": "markdown",
   "metadata": {},
   "source": [
    "### Xgboost"
   ]
  },
  {
   "cell_type": "code",
   "execution_count": 111,
   "metadata": {},
   "outputs": [],
   "source": [
    "train_X = [[1, d['user_avg_rating'], d['bus_avg_rating'],d['num_of_reviews'], d['image_counts'],d['sentiment_score']] for d in train_features]\n",
    "test_X = [[1, d['user_avg_rating'], d['bus_avg_rating'],d['num_of_reviews'], d['image_counts'],d['sentiment_score']] for d in test_features]\n",
    "\n",
    "train_y = train_labels\n",
    "test_y = test_labels"
   ]
  },
  {
   "cell_type": "code",
   "execution_count": 112,
   "metadata": {},
   "outputs": [
    {
     "name": "stdout",
     "output_type": "stream",
     "text": [
      "Train MSE: 0.48445039205570006\n",
      "Test MSE: 0.4930644673293598\n"
     ]
    }
   ],
   "source": [
    "xg_model = xgb.XGBRegressor(n_estimators=100, learning_rate=0.1, max_depth=8, random_state=42)\n",
    "xg_model.fit(train_X, train_y)\n",
    "test_predictions = xg_model.predict(test_X)\n",
    "\n",
    "train_predictions = xg_model.predict(train_X)\n",
    "\n",
    "\n",
    "test_mse = mean_squared_error(test_y, test_predictions)\n",
    "train_mse = mean_squared_error(train_y, train_predictions)\n",
    "\n",
    "print(f'Train MSE: {train_mse}')\n",
    "print(f'Test MSE: {test_mse}')"
   ]
  },
  {
   "cell_type": "code",
   "execution_count": 113,
   "metadata": {},
   "outputs": [
    {
     "name": "stdout",
     "output_type": "stream",
     "text": [
      "User 88290 - Predicted Rating: 4.30, Actual Rating: 3\n",
      "User 119566 - Predicted Rating: 2.91, Actual Rating: 4\n",
      "User 59088 - Predicted Rating: 3.62, Actual Rating: 5\n",
      "User 109021 - Predicted Rating: 3.55, Actual Rating: 5\n",
      "User 44880 - Predicted Rating: 4.54, Actual Rating: 5\n"
     ]
    }
   ],
   "source": [
    "random_indices = random.sample(range(len(test_X)), 5)\n",
    "\n",
    "sample_test_X = [test_X[i] for i in random_indices]\n",
    "sample_test_y = [test_y[i] for i in random_indices]\n",
    "\n",
    "sample_predictions = xg_model.predict(sample_test_X)\n",
    "\n",
    "for i, prediction in enumerate(sample_predictions):\n",
    "    print(f\"User {random_indices[i]} - Predicted Rating: {prediction:.2f}, Actual Rating: {sample_test_y[i]}\")\n",
    "\n"
   ]
  }
 ],
 "metadata": {
  "kernelspec": {
   "display_name": "Python 3.9.6 64-bit",
   "language": "python",
   "name": "python3"
  },
  "language_info": {
   "codemirror_mode": {
    "name": "ipython",
    "version": 3
   },
   "file_extension": ".py",
   "mimetype": "text/x-python",
   "name": "python",
   "nbconvert_exporter": "python",
   "pygments_lexer": "ipython3",
   "version": "3.9.6"
  },
  "vscode": {
   "interpreter": {
    "hash": "31f2aee4e71d21fbe5cf8b01ff0e069b9275f58929596ceb00d14d90e3e16cd6"
   }
  }
 },
 "nbformat": 4,
 "nbformat_minor": 2
}
