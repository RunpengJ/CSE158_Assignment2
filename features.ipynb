{
 "cells": [
  {
   "cell_type": "code",
   "execution_count": 1,
   "metadata": {},
   "outputs": [],
   "source": [
    "import gzip\n",
    "from collections import defaultdict\n",
    "import math\n",
    "import scipy.optimize\n",
    "from sklearn import svm\n",
    "import numpy\n",
    "import string\n",
    "import random\n",
    "import string\n",
    "from sklearn import linear_model\n",
    "import json\n",
    "import pandas as pd"
   ]
  },
  {
   "cell_type": "code",
   "execution_count": 2,
   "metadata": {},
   "outputs": [],
   "source": [
    "def parse(path):\n",
    "  g = gzip.open(path, 'r')\n",
    "  for l in g:\n",
    "    yield json.loads(l)"
   ]
  },
  {
   "cell_type": "code",
   "execution_count": 3,
   "metadata": {},
   "outputs": [],
   "source": [
    "users_reviews = []\n",
    "for l in parse(\"review-Hawaii_10.json.gz\"):\n",
    "  users_reviews.append(l)\n",
    "\n"
   ]
  },
  {
   "cell_type": "code",
   "execution_count": 4,
   "metadata": {},
   "outputs": [
    {
     "name": "stdout",
     "output_type": "stream",
     "text": [
      "users_reviews dataset length: 1504347\n",
      "users_reviews dataset example:\n"
     ]
    },
    {
     "data": {
      "text/plain": [
       "{'user_id': '113965417079576625433',\n",
       " 'name': 'manuel grimaldo',\n",
       " 'time': 1591839903487,\n",
       " 'rating': 5,\n",
       " 'text': 'Great new upgrade',\n",
       " 'pics': None,\n",
       " 'resp': None,\n",
       " 'gmap_id': '0x7c00159b5b1b1d25:0x8d2d85d4a758290e'}"
      ]
     },
     "execution_count": 4,
     "metadata": {},
     "output_type": "execute_result"
    }
   ],
   "source": [
    "print(f\"users_reviews dataset length: {len(users_reviews)}\")\n",
    "print(\"users_reviews dataset example:\")\n",
    "users_reviews[0]"
   ]
  },
  {
   "cell_type": "code",
   "execution_count": 5,
   "metadata": {},
   "outputs": [],
   "source": [
    "businesses = []\n",
    "for l in parse(\"meta-Hawaii.json.gz\"):\n",
    "  businesses.append(l)"
   ]
  },
  {
   "cell_type": "code",
   "execution_count": 6,
   "metadata": {},
   "outputs": [
    {
     "name": "stdout",
     "output_type": "stream",
     "text": [
      "businesses dataset length: 21507\n",
      "businesses dataset example:\n"
     ]
    },
    {
     "data": {
      "text/plain": [
       "{'name': 'Hale Pops',\n",
       " 'address': 'Hale Pops, 55-370 Kamehameha Hwy, Laie, HI 96762',\n",
       " 'gmap_id': '0x7c00456eecad3111:0x8217f9600c51f33',\n",
       " 'description': None,\n",
       " 'latitude': 21.637795699999998,\n",
       " 'longitude': -157.9207142,\n",
       " 'category': ['Restaurant'],\n",
       " 'avg_rating': 4.4,\n",
       " 'num_of_reviews': 18,\n",
       " 'price': None,\n",
       " 'hours': [['Thursday', '11AM–8PM'],\n",
       "  ['Friday', '11AM–8PM'],\n",
       "  ['Saturday', '11AM–8PM'],\n",
       "  ['Sunday', 'Closed'],\n",
       "  ['Monday', '11AM–8PM'],\n",
       "  ['Tuesday', '11AM–8PM'],\n",
       "  ['Wednesday', '11AM–8PM']],\n",
       " 'MISC': {'Service options': ['Outdoor seating', 'Takeout', 'Delivery'],\n",
       "  'Popular for': ['Lunch', 'Solo dining'],\n",
       "  'Accessibility': ['Wheelchair accessible entrance'],\n",
       "  'Offerings': ['Comfort food', 'Quick bite'],\n",
       "  'Amenities': ['Good for kids'],\n",
       "  'Atmosphere': ['Casual'],\n",
       "  'Crowd': ['Groups', 'Tourists'],\n",
       "  'Payments': ['NFC mobile payments']},\n",
       " 'state': 'Closed ⋅ Opens 11AM',\n",
       " 'relative_results': ['0x7c00451360f80cf1:0x930291a38bab3132',\n",
       "  '0x7c00457322571d57:0xe3974e89bbfc41ce',\n",
       "  '0x7c0045173c1aa2f1:0xf79112d075128937',\n",
       "  '0x7c00504a8dc1b0b7:0x5cd641e56c7ad9e',\n",
       "  '0x7c00456f42129445:0xda91d3d21022933b'],\n",
       " 'url': 'https://www.google.com/maps/place//data=!4m2!3m1!1s0x7c00456eecad3111:0x8217f9600c51f33?authuser=-1&hl=en&gl=us'}"
      ]
     },
     "execution_count": 6,
     "metadata": {},
     "output_type": "execute_result"
    }
   ],
   "source": [
    "print(f\"businesses dataset length: {len(businesses)}\")\n",
    "print(\"businesses dataset example:\")\n",
    "businesses[0]"
   ]
  },
  {
   "cell_type": "code",
   "execution_count": 7,
   "metadata": {},
   "outputs": [
    {
     "name": "stdout",
     "output_type": "stream",
     "text": [
      "number of business: 11686\n"
     ]
    }
   ],
   "source": [
    "business_user = defaultdict(list)\n",
    "for d in users_reviews:\n",
    "    business_user[d['gmap_id']].append(d['user_id'])\n",
    "\n",
    "# print number of business\n",
    "print(f\"number of business: {len(business_user)}\")"
   ]
  },
  {
   "cell_type": "code",
   "execution_count": 8,
   "metadata": {},
   "outputs": [],
   "source": [
    "# extract all business id from businesses\n",
    "business_id = []\n",
    "for d in businesses:\n",
    "    business_id.append(d['gmap_id'])"
   ]
  },
  {
   "cell_type": "code",
   "execution_count": 9,
   "metadata": {},
   "outputs": [],
   "source": [
    "# check if every business in users dataset is in business dataset\n",
    "for b in business_user:\n",
    "    if b not in business_id:\n",
    "        print(f\"business {b} not in business dataset\")"
   ]
  },
  {
   "cell_type": "code",
   "execution_count": 10,
   "metadata": {},
   "outputs": [
    {
     "name": "stdout",
     "output_type": "stream",
     "text": [
      "User ID: 113965417079576625433, Average Rating: 4.91\n",
      "User ID: 116655819137293331166, Average Rating: 4.73\n",
      "User ID: 100834119994550070853, Average Rating: 4.94\n",
      "User ID: 103207214144482097315, Average Rating: 4.64\n",
      "User ID: 108526171163172578599, Average Rating: 3.48\n"
     ]
    }
   ],
   "source": [
    "#user avg rating\n",
    "user_ratings = {}\n",
    "\n",
    "for review in users_reviews:\n",
    "    user_id = review.get('user_id')\n",
    "    rating = review.get('rating')\n",
    "\n",
    "    if user_id is not None and rating is not None:\n",
    "        if user_id not in user_ratings:\n",
    "            user_ratings[user_id] = {'total_rating': 0, 'count': 0}\n",
    "        \n",
    "        user_ratings[user_id]['total_rating'] += rating\n",
    "        user_ratings[user_id]['count'] += 1\n",
    "\n",
    "user_avg_ratings = {user_id: data['total_rating'] / data['count'] \n",
    "                    for user_id, data in user_ratings.items() if data['count'] > 0}\n",
    "\n",
    "for user_id in list(user_avg_ratings.keys())[:5]:\n",
    "    print(f\"User ID: {user_id}, Average Rating: {user_avg_ratings[user_id]:.2f}\")\n"
   ]
  },
  {
   "cell_type": "code",
   "execution_count": 11,
   "metadata": {},
   "outputs": [],
   "source": [
    "#businuess img count\n",
    "image_counts = {}\n",
    "\n",
    "for review in users_reviews:\n",
    "    gmap_id = review.get('gmap_id')\n",
    "    images = review.get('pics')\n",
    "\n",
    "    if gmap_id and images:\n",
    "        num_images = len(images)\n",
    "        if gmap_id in image_counts:\n",
    "            image_counts[gmap_id] += num_images\n",
    "        else:\n",
    "            image_counts[gmap_id] = num_images"
   ]
  },
  {
   "cell_type": "code",
   "execution_count": 12,
   "metadata": {},
   "outputs": [],
   "source": [
    "response_counts = {}\n",
    "\n",
    "for review in users_reviews:\n",
    "    gmap_id = review.get('gmap_id')\n",
    "    response = review.get('resp')\n",
    "\n",
    "    if gmap_id and response:\n",
    "        if gmap_id in response_counts:\n",
    "            response_counts[gmap_id] += 1\n",
    "        else:\n",
    "            response_counts[gmap_id] = 1\n"
   ]
  },
  {
   "cell_type": "code",
   "execution_count": 13,
   "metadata": {},
   "outputs": [],
   "source": [
    "users_data = [{'user_id': d['user_id'], 'gmap_id': d['gmap_id'], 'rating': d['rating'],'text': d['text']} \n",
    "              for d in users_reviews if 'user_id' in d and 'gmap_id' in d and 'rating' in d and 'text' in d]\n",
    "\n",
    "business_dict = {d['gmap_id']: {'bus_avg_rating': d.get('avg_rating', 0), \n",
    "                                'num_of_reviews': d.get('num_of_reviews', 0)}\n",
    "                 for d in businesses if 'gmap_id' in d}\n",
    "\n",
    "dataset = []\n",
    "for user_review in users_data:\n",
    "    gmap_id = user_review['gmap_id']\n",
    "    if gmap_id in business_dict:\n",
    "        merged_data = {**user_review, **business_dict[gmap_id]}\n",
    "        dataset.append(merged_data)"
   ]
  },
  {
   "cell_type": "code",
   "execution_count": null,
   "metadata": {},
   "outputs": [],
   "source": []
  },
  {
   "cell_type": "code",
   "execution_count": 14,
   "metadata": {},
   "outputs": [],
   "source": [
    "#add user_avg_rating,  to dataset\n",
    "for entry in dataset:\n",
    "    gmap_id = entry.get('gmap_id')\n",
    "    user_id = entry.get('user_id')\n",
    "    entry['user_avg_rating'] = user_avg_ratings[user_id]\n",
    "    entry['bus_response_count'] = response_counts.get(gmap_id,0)\n",
    "    entry['bus_image_counts'] = image_counts.get(gmap_id, 0)\n",
    "    "
   ]
  },
  {
   "cell_type": "code",
   "execution_count": 15,
   "metadata": {},
   "outputs": [
    {
     "data": {
      "text/plain": [
       "[{'user_id': '113965417079576625433',\n",
       "  'gmap_id': '0x7c00159b5b1b1d25:0x8d2d85d4a758290e',\n",
       "  'rating': 5,\n",
       "  'text': 'Great new upgrade',\n",
       "  'bus_avg_rating': 4.1,\n",
       "  'num_of_reviews': 18,\n",
       "  'user_avg_rating': 4.909090909090909,\n",
       "  'bus_response_count': 0,\n",
       "  'bus_image_counts': 0},\n",
       " {'user_id': '116655819137293331166',\n",
       "  'gmap_id': '0x7c00159b5b1b1d25:0x8d2d85d4a758290e',\n",
       "  'rating': 5,\n",
       "  'text': None,\n",
       "  'bus_avg_rating': 4.1,\n",
       "  'num_of_reviews': 18,\n",
       "  'user_avg_rating': 4.7272727272727275,\n",
       "  'bus_response_count': 0,\n",
       "  'bus_image_counts': 0},\n",
       " {'user_id': '100834119994550070853',\n",
       "  'gmap_id': '0x7c00159b5b1b1d25:0x8d2d85d4a758290e',\n",
       "  'rating': 5,\n",
       "  'text': None,\n",
       "  'bus_avg_rating': 4.1,\n",
       "  'num_of_reviews': 18,\n",
       "  'user_avg_rating': 4.9411764705882355,\n",
       "  'bus_response_count': 0,\n",
       "  'bus_image_counts': 0},\n",
       " {'user_id': '103207214144482097315',\n",
       "  'gmap_id': '0x7c00159b5b1b1d25:0x8d2d85d4a758290e',\n",
       "  'rating': 5,\n",
       "  'text': None,\n",
       "  'bus_avg_rating': 4.1,\n",
       "  'num_of_reviews': 18,\n",
       "  'user_avg_rating': 4.642857142857143,\n",
       "  'bus_response_count': 0,\n",
       "  'bus_image_counts': 0},\n",
       " {'user_id': '108526171163172578599',\n",
       "  'gmap_id': '0x7c00159b5b1b1d25:0x8d2d85d4a758290e',\n",
       "  'rating': 3,\n",
       "  'text': None,\n",
       "  'bus_avg_rating': 4.1,\n",
       "  'num_of_reviews': 18,\n",
       "  'user_avg_rating': 3.4782608695652173,\n",
       "  'bus_response_count': 0,\n",
       "  'bus_image_counts': 0},\n",
       " {'user_id': '103631916844988015053',\n",
       "  'gmap_id': '0x7c00159b5b1b1d25:0x8d2d85d4a758290e',\n",
       "  'rating': 1,\n",
       "  'text': None,\n",
       "  'bus_avg_rating': 4.1,\n",
       "  'num_of_reviews': 18,\n",
       "  'user_avg_rating': 3.5,\n",
       "  'bus_response_count': 0,\n",
       "  'bus_image_counts': 0},\n",
       " {'user_id': '110704040666141457318',\n",
       "  'gmap_id': '0x7c00159b5b1b1d25:0x8d2d85d4a758290e',\n",
       "  'rating': 5,\n",
       "  'text': None,\n",
       "  'bus_avg_rating': 4.1,\n",
       "  'num_of_reviews': 18,\n",
       "  'user_avg_rating': 5.0,\n",
       "  'bus_response_count': 0,\n",
       "  'bus_image_counts': 0},\n",
       " {'user_id': '108990631831664990054',\n",
       "  'gmap_id': '0x7c00159b5b1b1d25:0x8d2d85d4a758290e',\n",
       "  'rating': 1,\n",
       "  'text': None,\n",
       "  'bus_avg_rating': 4.1,\n",
       "  'num_of_reviews': 18,\n",
       "  'user_avg_rating': 3.5,\n",
       "  'bus_response_count': 0,\n",
       "  'bus_image_counts': 0},\n",
       " {'user_id': '111895191349343275284',\n",
       "  'gmap_id': '0x7c00159b5b1b1d25:0x8d2d85d4a758290e',\n",
       "  'rating': 5,\n",
       "  'text': None,\n",
       "  'bus_avg_rating': 4.1,\n",
       "  'num_of_reviews': 18,\n",
       "  'user_avg_rating': 4.1454545454545455,\n",
       "  'bus_response_count': 0,\n",
       "  'bus_image_counts': 0},\n",
       " {'user_id': '116125865632473554333',\n",
       "  'gmap_id': '0x7c00159b5b1b1d25:0x8d2d85d4a758290e',\n",
       "  'rating': 5,\n",
       "  'text': None,\n",
       "  'bus_avg_rating': 4.1,\n",
       "  'num_of_reviews': 18,\n",
       "  'user_avg_rating': 4.918032786885246,\n",
       "  'bus_response_count': 0,\n",
       "  'bus_image_counts': 0}]"
      ]
     },
     "execution_count": 15,
     "metadata": {},
     "output_type": "execute_result"
    }
   ],
   "source": [
    "dataset[:10]"
   ]
  }
 ],
 "metadata": {
  "kernelspec": {
   "display_name": "Python 3.9.6 64-bit",
   "language": "python",
   "name": "python3"
  },
  "language_info": {
   "codemirror_mode": {
    "name": "ipython",
    "version": 3
   },
   "file_extension": ".py",
   "mimetype": "text/x-python",
   "name": "python",
   "nbconvert_exporter": "python",
   "pygments_lexer": "ipython3",
   "version": "3.9.6"
  },
  "vscode": {
   "interpreter": {
    "hash": "31f2aee4e71d21fbe5cf8b01ff0e069b9275f58929596ceb00d14d90e3e16cd6"
   }
  }
 },
 "nbformat": 4,
 "nbformat_minor": 2
}
