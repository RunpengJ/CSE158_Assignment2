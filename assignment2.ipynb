{
 "cells": [
  {
   "cell_type": "code",
   "execution_count": 60,
   "metadata": {},
   "outputs": [],
   "source": [
    "import gzip\n",
    "from collections import defaultdict\n",
    "import math\n",
    "import scipy.optimize\n",
    "from sklearn import svm\n",
    "import numpy\n",
    "import string\n",
    "import random\n",
    "import string\n",
    "import json\n",
    "from nltk.stem import PorterStemmer\n",
    "from sklearn import linear_model\n",
    "import nltk\n",
    "from nltk.corpus import stopwords\n"
   ]
  },
  {
   "cell_type": "code",
   "execution_count": 57,
   "metadata": {},
   "outputs": [
    {
     "name": "stderr",
     "output_type": "stream",
     "text": [
      "[nltk_data] Downloading package stopwords to\n",
      "[nltk_data]     /Users/bensonjian/nltk_data...\n",
      "[nltk_data]   Package stopwords is already up-to-date!\n"
     ]
    },
    {
     "data": {
      "text/plain": [
       "True"
      ]
     },
     "execution_count": 57,
     "metadata": {},
     "output_type": "execute_result"
    }
   ],
   "source": [
    "nltk.download('stopwords')"
   ]
  },
  {
   "cell_type": "code",
   "execution_count": 2,
   "metadata": {},
   "outputs": [],
   "source": [
    "def parse(path):\n",
    "  g = gzip.open(path, 'r')\n",
    "  for l in g:\n",
    "    yield json.loads(l)"
   ]
  },
  {
   "cell_type": "code",
   "execution_count": 3,
   "metadata": {},
   "outputs": [],
   "source": [
    "users_reviews = []\n",
    "for l in parse(\"review-Hawaii_10.json.gz\"):\n",
    "  users_reviews.append(l)"
   ]
  },
  {
   "cell_type": "code",
   "execution_count": 4,
   "metadata": {},
   "outputs": [
    {
     "data": {
      "text/plain": [
       "{'user_id': '113965417079576625433',\n",
       " 'name': 'manuel grimaldo',\n",
       " 'time': 1591839903487,\n",
       " 'rating': 5,\n",
       " 'text': 'Great new upgrade',\n",
       " 'pics': None,\n",
       " 'resp': None,\n",
       " 'gmap_id': '0x7c00159b5b1b1d25:0x8d2d85d4a758290e'}"
      ]
     },
     "execution_count": 4,
     "metadata": {},
     "output_type": "execute_result"
    }
   ],
   "source": [
    "users_reviews[0]"
   ]
  },
  {
   "cell_type": "code",
   "execution_count": 5,
   "metadata": {},
   "outputs": [],
   "source": [
    "businesses = []\n",
    "for l in parse(\"meta-Hawaii.json.gz\"):\n",
    "  businesses.append(l)"
   ]
  },
  {
   "cell_type": "code",
   "execution_count": 6,
   "metadata": {},
   "outputs": [
    {
     "data": {
      "text/plain": [
       "{'name': 'Hale Pops',\n",
       " 'address': 'Hale Pops, 55-370 Kamehameha Hwy, Laie, HI 96762',\n",
       " 'gmap_id': '0x7c00456eecad3111:0x8217f9600c51f33',\n",
       " 'description': None,\n",
       " 'latitude': 21.637795699999998,\n",
       " 'longitude': -157.9207142,\n",
       " 'category': ['Restaurant'],\n",
       " 'avg_rating': 4.4,\n",
       " 'num_of_reviews': 18,\n",
       " 'price': None,\n",
       " 'hours': [['Thursday', '11AM–8PM'],\n",
       "  ['Friday', '11AM–8PM'],\n",
       "  ['Saturday', '11AM–8PM'],\n",
       "  ['Sunday', 'Closed'],\n",
       "  ['Monday', '11AM–8PM'],\n",
       "  ['Tuesday', '11AM–8PM'],\n",
       "  ['Wednesday', '11AM–8PM']],\n",
       " 'MISC': {'Service options': ['Outdoor seating', 'Takeout', 'Delivery'],\n",
       "  'Popular for': ['Lunch', 'Solo dining'],\n",
       "  'Accessibility': ['Wheelchair accessible entrance'],\n",
       "  'Offerings': ['Comfort food', 'Quick bite'],\n",
       "  'Amenities': ['Good for kids'],\n",
       "  'Atmosphere': ['Casual'],\n",
       "  'Crowd': ['Groups', 'Tourists'],\n",
       "  'Payments': ['NFC mobile payments']},\n",
       " 'state': 'Closed ⋅ Opens 11AM',\n",
       " 'relative_results': ['0x7c00451360f80cf1:0x930291a38bab3132',\n",
       "  '0x7c00457322571d57:0xe3974e89bbfc41ce',\n",
       "  '0x7c0045173c1aa2f1:0xf79112d075128937',\n",
       "  '0x7c00504a8dc1b0b7:0x5cd641e56c7ad9e',\n",
       "  '0x7c00456f42129445:0xda91d3d21022933b'],\n",
       " 'url': 'https://www.google.com/maps/place//data=!4m2!3m1!1s0x7c00456eecad3111:0x8217f9600c51f33?authuser=-1&hl=en&gl=us'}"
      ]
     },
     "execution_count": 6,
     "metadata": {},
     "output_type": "execute_result"
    }
   ],
   "source": [
    "businesses[0]"
   ]
  },
  {
   "cell_type": "markdown",
   "metadata": {},
   "source": [
    "## Linear Regression"
   ]
  },
  {
   "cell_type": "code",
   "execution_count": 8,
   "metadata": {},
   "outputs": [
    {
     "name": "stdout",
     "output_type": "stream",
     "text": [
      "User ID: 113965417079576625433, Average Rating: 4.91\n",
      "User ID: 116655819137293331166, Average Rating: 4.73\n",
      "User ID: 100834119994550070853, Average Rating: 4.94\n",
      "User ID: 103207214144482097315, Average Rating: 4.64\n",
      "User ID: 108526171163172578599, Average Rating: 3.48\n"
     ]
    }
   ],
   "source": [
    "#user avg rating\n",
    "user_ratings = {}\n",
    "\n",
    "for review in users_reviews:\n",
    "    user_id = review.get('user_id')\n",
    "    rating = review.get('rating')\n",
    "\n",
    "    if user_id is not None and rating is not None:\n",
    "        if user_id not in user_ratings:\n",
    "            user_ratings[user_id] = {'total_rating': 0, 'count': 0}\n",
    "        \n",
    "        user_ratings[user_id]['total_rating'] += rating\n",
    "        user_ratings[user_id]['count'] += 1\n",
    "\n",
    "user_avg_ratings = {user_id: data['total_rating'] / data['count'] \n",
    "                    for user_id, data in user_ratings.items() if data['count'] > 0}\n",
    "\n",
    "for user_id in list(user_avg_ratings.keys())[:5]:\n",
    "    print(f\"User ID: {user_id}, Average Rating: {user_avg_ratings[user_id]:.2f}\")"
   ]
  },
  {
   "cell_type": "code",
   "execution_count": 9,
   "metadata": {},
   "outputs": [],
   "source": [
    "#businuess img count\n",
    "image_counts = {}\n",
    "\n",
    "for review in users_reviews:\n",
    "    gmap_id = review.get('gmap_id')\n",
    "    images = review.get('pics')\n",
    "\n",
    "    if gmap_id and images:\n",
    "        num_images = len(images)\n",
    "        if gmap_id in image_counts:\n",
    "            image_counts[gmap_id] += num_images\n",
    "        else:\n",
    "            image_counts[gmap_id] = num_images"
   ]
  },
  {
   "cell_type": "code",
   "execution_count": 10,
   "metadata": {},
   "outputs": [],
   "source": [
    "response_counts = {}\n",
    "\n",
    "for review in users_reviews:\n",
    "    gmap_id = review.get('gmap_id')\n",
    "    response = review.get('resp')\n",
    "\n",
    "    if gmap_id and response:\n",
    "        if gmap_id in response_counts:\n",
    "            response_counts[gmap_id] += 1\n",
    "        else:\n",
    "            response_counts[gmap_id] = 1"
   ]
  },
  {
   "cell_type": "code",
   "execution_count": 11,
   "metadata": {},
   "outputs": [],
   "source": [
    "users_data = [{'user_id': d['user_id'], 'gmap_id': d['gmap_id'], 'rating': d['rating'],'text': d['text']} \n",
    "              for d in users_reviews if 'user_id' in d and 'gmap_id' in d and 'rating' in d and 'text' in d]\n",
    "\n",
    "business_dict = {d['gmap_id']: {'avg_rating': d.get('avg_rating', 0), \n",
    "                                'num_of_reviews': d.get('num_of_reviews', 0)}\n",
    "                 for d in businesses if 'gmap_id' in d}\n",
    "\n",
    "dataset = []\n",
    "for user_review in users_data:\n",
    "    gmap_id = user_review['gmap_id']\n",
    "    if gmap_id in business_dict:\n",
    "        merged_data = {**user_review, **business_dict[gmap_id]}\n",
    "        dataset.append(merged_data)"
   ]
  },
  {
   "cell_type": "code",
   "execution_count": 12,
   "metadata": {},
   "outputs": [],
   "source": [
    "#add features\n",
    "for entry in dataset:\n",
    "    gmap_id = entry.get('gmap_id')\n",
    "    user_id = entry.get('user_id')\n",
    "    entry['user_avg_rating'] = user_avg_ratings[user_id]\n",
    "    entry['response_count'] = response_counts.get(gmap_id,0)\n",
    "    entry['image_counts'] = image_counts.get(gmap_id, 0)\n",
    "    "
   ]
  },
  {
   "cell_type": "code",
   "execution_count": 13,
   "metadata": {},
   "outputs": [
    {
     "data": {
      "text/plain": [
       "{'user_id': '113965417079576625433',\n",
       " 'gmap_id': '0x7c00159b5b1b1d25:0x8d2d85d4a758290e',\n",
       " 'rating': 5,\n",
       " 'text': 'Great new upgrade',\n",
       " 'avg_rating': 4.1,\n",
       " 'num_of_reviews': 18,\n",
       " 'user_avg_rating': 4.909090909090909,\n",
       " 'response_count': 0,\n",
       " 'image_counts': 0}"
      ]
     },
     "execution_count": 13,
     "metadata": {},
     "output_type": "execute_result"
    }
   ],
   "source": [
    "dataset[0]"
   ]
  },
  {
   "cell_type": "code",
   "execution_count": 14,
   "metadata": {},
   "outputs": [],
   "source": [
    "def MSE(predictions, labels):\n",
    "    differences = [(x - y) ** 2 for x, y in zip(predictions, labels)]\n",
    "    return sum(differences) / len(differences)"
   ]
  },
  {
   "cell_type": "code",
   "execution_count": 71,
   "metadata": {},
   "outputs": [],
   "source": [
    "def MAE(predictions, labels):\n",
    "    differences = [abs(x - y) for x, y in zip(predictions, labels)]\n",
    "    return sum(differences) / len(differences)"
   ]
  },
  {
   "cell_type": "code",
   "execution_count": 15,
   "metadata": {},
   "outputs": [],
   "source": [
    "# split dataset\n",
    "train_data = dataset[:int(len(dataset) * 0.9)]\n",
    "test_data = dataset[int(len(dataset) * 0.9):]\n",
    "train_users_reviews = users_reviews[:int(len(users_reviews) * 0.9)]\n",
    "test_users_reviews = users_reviews[int(len(users_reviews) * 0.9):]"
   ]
  },
  {
   "cell_type": "markdown",
   "metadata": {},
   "source": [
    "### Baseline Model 1: avg_rating"
   ]
  },
  {
   "cell_type": "code",
   "execution_count": 16,
   "metadata": {},
   "outputs": [],
   "source": [
    "# extract features\n",
    "train_X = [[1, d['avg_rating']] for d in train_data]\n",
    "test_X = [[1, d['avg_rating']] for d in test_data]\n",
    "train_y = [u['rating'] for u in train_users_reviews]\n",
    "test_y = [u['rating'] for u in test_users_reviews]"
   ]
  },
  {
   "cell_type": "code",
   "execution_count": 17,
   "metadata": {},
   "outputs": [],
   "source": [
    "# train model\n",
    "model = linear_model.LinearRegression(fit_intercept=False)\n",
    "model.fit(train_X, train_y)\n",
    "predictions = model.predict(test_X)"
   ]
  },
  {
   "cell_type": "code",
   "execution_count": 18,
   "metadata": {},
   "outputs": [
    {
     "data": {
      "text/plain": [
       "0.6738557818215304"
      ]
     },
     "execution_count": 18,
     "metadata": {},
     "output_type": "execute_result"
    }
   ],
   "source": [
    "mse = MSE(predictions, test_y)\n",
    "mse"
   ]
  },
  {
   "cell_type": "markdown",
   "metadata": {},
   "source": [
    "### Baseline Model 2: user_avg_rating"
   ]
  },
  {
   "cell_type": "code",
   "execution_count": 19,
   "metadata": {},
   "outputs": [],
   "source": [
    "train_X = [[1, d['user_avg_rating']] for d in train_data]\n",
    "test_X = [[1, d['user_avg_rating']] for d in test_data]\n",
    "train_y = [u['rating'] for u in train_users_reviews]\n",
    "test_y = [u['rating'] for u in test_users_reviews]"
   ]
  },
  {
   "cell_type": "code",
   "execution_count": 20,
   "metadata": {},
   "outputs": [],
   "source": [
    "# train model\n",
    "model = linear_model.LinearRegression(fit_intercept=False)\n",
    "model.fit(train_X, train_y)\n",
    "predictions = model.predict(test_X)"
   ]
  },
  {
   "cell_type": "code",
   "execution_count": 21,
   "metadata": {},
   "outputs": [
    {
     "data": {
      "text/plain": [
       "0.5256570587970208"
      ]
     },
     "execution_count": 21,
     "metadata": {},
     "output_type": "execute_result"
    }
   ],
   "source": [
    "mse = MSE(predictions, test_y)\n",
    "mse"
   ]
  },
  {
   "cell_type": "markdown",
   "metadata": {},
   "source": [
    "### Model 3: avg_rating, user_avg_rating"
   ]
  },
  {
   "cell_type": "code",
   "execution_count": 40,
   "metadata": {},
   "outputs": [],
   "source": [
    "train_X = [[1, d['user_avg_rating'], d['avg_rating']] for d in train_data]\n",
    "test_X = [[1, d['user_avg_rating'], d['avg_rating']] for d in test_data]\n",
    "train_y = [u['rating'] for u in train_users_reviews]\n",
    "test_y = [u['rating'] for u in test_users_reviews]"
   ]
  },
  {
   "cell_type": "code",
   "execution_count": 41,
   "metadata": {},
   "outputs": [],
   "source": [
    "# train model\n",
    "model = linear_model.LinearRegression(fit_intercept=False)\n",
    "model.fit(train_X, train_y)\n",
    "predictions = model.predict(test_X)"
   ]
  },
  {
   "cell_type": "code",
   "execution_count": 42,
   "metadata": {},
   "outputs": [
    {
     "data": {
      "text/plain": [
       "0.4886740944678856"
      ]
     },
     "execution_count": 42,
     "metadata": {},
     "output_type": "execute_result"
    }
   ],
   "source": [
    "mse = MSE(predictions, test_y)\n",
    "mse"
   ]
  },
  {
   "cell_type": "markdown",
   "metadata": {},
   "source": [
    "### Model 4: avg_rating, user_avg_rating, num_of_reviews"
   ]
  },
  {
   "cell_type": "code",
   "execution_count": 25,
   "metadata": {},
   "outputs": [],
   "source": [
    "train_X = [[1, d['user_avg_rating'], d['avg_rating'], d['num_of_reviews']] for d in train_data]\n",
    "test_X = [[1, d['user_avg_rating'], d['avg_rating'], d['num_of_reviews']] for d in test_data]\n",
    "train_y = [u['rating'] for u in train_users_reviews]\n",
    "test_y = [u['rating'] for u in test_users_reviews]"
   ]
  },
  {
   "cell_type": "code",
   "execution_count": 26,
   "metadata": {},
   "outputs": [],
   "source": [
    "# train model\n",
    "model = linear_model.LinearRegression(fit_intercept=False)\n",
    "model.fit(train_X, train_y)\n",
    "predictions = model.predict(test_X)"
   ]
  },
  {
   "cell_type": "code",
   "execution_count": 27,
   "metadata": {},
   "outputs": [
    {
     "data": {
      "text/plain": [
       "0.4894779561626342"
      ]
     },
     "execution_count": 27,
     "metadata": {},
     "output_type": "execute_result"
    }
   ],
   "source": [
    "mse = MSE(predictions, test_y)\n",
    "mse"
   ]
  },
  {
   "cell_type": "markdown",
   "metadata": {},
   "source": [
    "### Model 5"
   ]
  },
  {
   "cell_type": "code",
   "execution_count": 32,
   "metadata": {},
   "outputs": [],
   "source": [
    "train_X = [[1, d['user_avg_rating'], d['avg_rating'], d['num_of_reviews'], d['image_counts']] for d in train_data]\n",
    "test_X = [[1, d['user_avg_rating'], d['avg_rating'], d['num_of_reviews'], d['image_counts']] for d in test_data]\n",
    "train_y = [u['rating'] for u in train_users_reviews]\n",
    "test_y = [u['rating'] for u in test_users_reviews]"
   ]
  },
  {
   "cell_type": "code",
   "execution_count": 33,
   "metadata": {},
   "outputs": [],
   "source": [
    "# train model\n",
    "model = linear_model.LinearRegression(fit_intercept=False)\n",
    "model.fit(train_X, train_y)\n",
    "predictions = model.predict(test_X)"
   ]
  },
  {
   "cell_type": "code",
   "execution_count": 34,
   "metadata": {},
   "outputs": [
    {
     "data": {
      "text/plain": [
       "0.4891960794205272"
      ]
     },
     "execution_count": 34,
     "metadata": {},
     "output_type": "execute_result"
    }
   ],
   "source": [
    "mse = MSE(predictions, test_y)\n",
    "mse"
   ]
  },
  {
   "cell_type": "markdown",
   "metadata": {},
   "source": [
    "## Bag of Words"
   ]
  },
  {
   "cell_type": "code",
   "execution_count": 58,
   "metadata": {},
   "outputs": [],
   "source": [
    "# split dataset\n",
    "train_data = dataset[:int(len(dataset) * 0.9)]\n",
    "test_data = dataset[int(len(dataset) * 0.9):]\n",
    "train_users_reviews = users_reviews[:int(len(users_reviews) * 0.9)]\n",
    "test_users_reviews = users_reviews[int(len(users_reviews) * 0.9):]"
   ]
  },
  {
   "cell_type": "code",
   "execution_count": 61,
   "metadata": {},
   "outputs": [
    {
     "data": {
      "text/plain": [
       "311649"
      ]
     },
     "execution_count": 61,
     "metadata": {},
     "output_type": "execute_result"
    }
   ],
   "source": [
    "# lowercase, punctuation removed, no stemming\n",
    "wordCount = defaultdict(int)\n",
    "punctuation = set(string.punctuation)\n",
    "stop_words = set(stopwords.words('english'))\n",
    "# stemmer = PorterStemmer()\n",
    "for d in train_data:\n",
    "    if d['text']:\n",
    "        r = ''.join([c for c in d['text'].lower() if not c in punctuation])\n",
    "        ws = [w for w in r.split() if w not in stop_words]\n",
    "        for w in ws:\n",
    "            # w = stemmer.stem(w)\n",
    "            wordCount[w] += 1\n",
    "len(wordCount)"
   ]
  },
  {
   "cell_type": "code",
   "execution_count": 62,
   "metadata": {},
   "outputs": [],
   "source": [
    "counts = [(wordCount[w], w) for w in wordCount]\n",
    "counts.sort(reverse=True)\n",
    "words = [x[1] for x in counts[:1000]]"
   ]
  },
  {
   "cell_type": "markdown",
   "metadata": {},
   "source": [
    "### Sentiment analysis"
   ]
  },
  {
   "cell_type": "code",
   "execution_count": 63,
   "metadata": {},
   "outputs": [],
   "source": [
    "wordID = dict(zip(words, range(len(words))))\n",
    "wordSet = set(words)"
   ]
  },
  {
   "cell_type": "code",
   "execution_count": 64,
   "metadata": {},
   "outputs": [],
   "source": [
    "def feature(datum):\n",
    "    feat = [0]*len(words)\n",
    "    if datum['text']:\n",
    "        r = ''.join([c for c in datum['text'].lower() if not c in punctuation])\n",
    "        ws = [w for w in r.split() if w not in stop_words]\n",
    "        for w in ws:\n",
    "            if w in words:\n",
    "                feat[wordID[w]] += 1\n",
    "    feat.append(1) #offset\n",
    "    return feat"
   ]
  },
  {
   "cell_type": "code",
   "execution_count": 65,
   "metadata": {},
   "outputs": [],
   "source": [
    "train_X = [feature(d) for d in train_data]\n",
    "train_y = [u['rating'] for u in train_users_reviews]\n",
    "test_X = [feature(d) for d in test_data]\n",
    "test_y = [u['rating'] for u in test_users_reviews]"
   ]
  },
  {
   "cell_type": "code",
   "execution_count": 66,
   "metadata": {},
   "outputs": [],
   "source": [
    "# regularized regression\n",
    "clf = linear_model.Ridge(1.0, fit_intercept=False)\n",
    "clf.fit(train_X, train_y)\n",
    "theta = clf.coef_\n",
    "train_predictions = clf.predict(train_X)\n",
    "test_predictions = clf.predict(test_X)"
   ]
  },
  {
   "cell_type": "code",
   "execution_count": 67,
   "metadata": {},
   "outputs": [
    {
     "name": "stdout",
     "output_type": "stream",
     "text": [
      "train mse: 0.7099192239329473\n",
      "test mse: 0.6224833976559787\n"
     ]
    }
   ],
   "source": [
    "train_mse = MSE(train_predictions, train_y)\n",
    "test_mse = MSE(test_predictions, test_y)\n",
    "print(f'train mse: {train_mse}')\n",
    "print(f'test mse: {test_mse}')"
   ]
  },
  {
   "cell_type": "code",
   "execution_count": 72,
   "metadata": {},
   "outputs": [
    {
     "name": "stdout",
     "output_type": "stream",
     "text": [
      "train mae: 0.6629048356631284\n",
      "test mae: 0.6388418997362427\n"
     ]
    }
   ],
   "source": [
    "train_mae = MAE(train_predictions, train_y)\n",
    "test_mae = MAE(test_predictions, test_y)\n",
    "print(f'train mae: {train_mae}')\n",
    "print(f'test mae: {test_mae}')"
   ]
  },
  {
   "cell_type": "code",
   "execution_count": 68,
   "metadata": {},
   "outputs": [],
   "source": [
    "wordSort = list(zip(theta, words))\n",
    "wordSort.sort()"
   ]
  },
  {
   "cell_type": "code",
   "execution_count": 69,
   "metadata": {},
   "outputs": [
    {
     "data": {
      "text/plain": [
       "[(-1.327276586668271, 'worst'),\n",
       " (-1.1900794552149985, 'horrible'),\n",
       " (-1.1091567561356912, 'terrible'),\n",
       " (-1.105245298123043, 'rude'),\n",
       " (-1.084665176556934, 'poor'),\n",
       " (-0.9498497118404947, 'overpriced'),\n",
       " (-0.838752728986792, 'dirty'),\n",
       " (-0.7252086338199372, 'homeless'),\n",
       " (-0.7175400282410713, 'slow'),\n",
       " (-0.5421720821710071, 'ok'),\n",
       " (-0.5116224837929986, 'sad'),\n",
       " (-0.49177798928451977, 'expensive'),\n",
       " (-0.47869827880830723, 'average'),\n",
       " (-0.46923581532118736, 'okay'),\n",
       " (-0.46166266619972285, 'closed'),\n",
       " (-0.40780496865091137, 'priced'),\n",
       " (-0.40114313289268966, 'nothing'),\n",
       " (-0.4004991815248283, 'dry'),\n",
       " (-0.38043864858591114, 'bad'),\n",
       " (-0.37642970981428686, 'sorry'),\n",
       " (-0.36285863860615264, 'waited'),\n",
       " (-0.36106212436378265, 'salty'),\n",
       " (-0.3452652029334908, 'disappointed'),\n",
       " (-0.3094833250172318, 'empty'),\n",
       " (-0.3064028190804877, 'needs'),\n",
       " (-0.291613708838876, 'money'),\n",
       " (-0.29041736393532014, 'tourist'),\n",
       " (-0.28953233755898594, 'pricey'),\n",
       " (-0.28097528016852086, 'loud'),\n",
       " (-0.27782281157827265, 'unfortunately'),\n",
       " (-0.2572772426104065, 'avoid'),\n",
       " (-0.2525889805983473, 'cashier'),\n",
       " (-0.24598578149964337, 'guess'),\n",
       " (-0.24594889146340806, 'wouldnt'),\n",
       " (-0.24279631925216913, 'paid'),\n",
       " (-0.2340234616448431, 'cold'),\n",
       " (-0.23327088921300906, 'typical'),\n",
       " (-0.22491820607160687, 'mcdonalds'),\n",
       " (-0.21562640874941552, 'charge'),\n",
       " (-0.21146513986034426, 'wont'),\n",
       " (-0.20912169997745705, 'wasnt'),\n",
       " (-0.2080294176282242, 'gone'),\n",
       " (-0.204263468131575, 'wrong'),\n",
       " (-0.20388855823432098, 'thru'),\n",
       " (-0.20004829614183117, 'tasted'),\n",
       " (-0.19627806390229977, 'run'),\n",
       " (-0.19589359478300525, 'customers'),\n",
       " (-0.1956595031450908, 'unless'),\n",
       " (-0.1922942840954209, 'never'),\n",
       " (-0.19151080697853737, 'old')]"
      ]
     },
     "execution_count": 69,
     "metadata": {},
     "output_type": "execute_result"
    }
   ],
   "source": [
    "wordSort[:50]"
   ]
  },
  {
   "cell_type": "code",
   "execution_count": null,
   "metadata": {},
   "outputs": [],
   "source": []
  }
 ],
 "metadata": {
  "kernelspec": {
   "display_name": "Python 3.9.6 64-bit",
   "language": "python",
   "name": "python3"
  },
  "language_info": {
   "codemirror_mode": {
    "name": "ipython",
    "version": 3
   },
   "file_extension": ".py",
   "mimetype": "text/x-python",
   "name": "python",
   "nbconvert_exporter": "python",
   "pygments_lexer": "ipython3",
   "version": "3.10.9"
  },
  "vscode": {
   "interpreter": {
    "hash": "31f2aee4e71d21fbe5cf8b01ff0e069b9275f58929596ceb00d14d90e3e16cd6"
   }
  }
 },
 "nbformat": 4,
 "nbformat_minor": 2
}
