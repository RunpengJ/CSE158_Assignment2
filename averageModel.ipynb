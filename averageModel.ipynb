{
 "cells": [
  {
   "cell_type": "code",
   "execution_count": null,
   "metadata": {},
   "outputs": [],
   "source": [
    "globalAverage = sum([l['rating'] for l in train]) / len(train)\n",
    "globalAverage"
   ]
  },
  {
   "cell_type": "code",
   "execution_count": null,
   "metadata": {},
   "outputs": [],
   "source": [
    "ratingsPerItem = defaultdict(list)\n",
    "ratingsPerUser = defaultdict(list)\n",
    "avgPerUser = defaultdict(float)\n",
    "avgPerItem = defaultdict(float)\n",
    "\n",
    "for l in train:\n",
    "    u,i = l['user_id'],l['gmap_id']\n",
    "    ratingsPerItem[i].append(l['rating'])\n",
    "    ratingsPerUser[u].append(l['rating'])\n",
    "\n",
    "for user in ratingsPerUser:\n",
    "    avgPerUser[user] = sum(ratingsPerUser[user]) / len(ratingsPerUser[user])\n",
    "    \n",
    "for item in ratingsPerItem:\n",
    "    avgPerItem[item] = sum(ratingsPerItem[item]) / len(ratingsPerItem[item])"
   ]
  }
 ],
 "metadata": {
  "language_info": {
   "name": "python"
  }
 },
 "nbformat": 4,
 "nbformat_minor": 2
}
