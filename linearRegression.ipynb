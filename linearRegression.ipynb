{
 "cells": [
  {
   "cell_type": "code",
   "execution_count": 1,
   "metadata": {},
   "outputs": [],
   "source": [
    "import gzip\n",
    "from collections import defaultdict\n",
    "import math\n",
    "import scipy.optimize\n",
    "from sklearn import svm\n",
    "import numpy\n",
    "import string\n",
    "import random\n",
    "import string\n",
    "from sklearn import linear_model\n",
    "import json"
   ]
  },
  {
   "cell_type": "code",
   "execution_count": 2,
   "metadata": {},
   "outputs": [],
   "source": [
    "def parse(path):\n",
    "  g = gzip.open(path, 'r')\n",
    "  for l in g:\n",
    "    yield json.loads(l)"
   ]
  },
  {
   "cell_type": "code",
   "execution_count": 3,
   "metadata": {},
   "outputs": [],
   "source": [
    "users_reviews = []\n",
    "for l in parse(\"review-Hawaii_10.json.gz\"):\n",
    "  users_reviews.append(l)"
   ]
  },
  {
   "cell_type": "code",
   "execution_count": 12,
   "metadata": {},
   "outputs": [
    {
     "name": "stdout",
     "output_type": "stream",
     "text": [
      "0x7c00159b5b1b1d25:0x8d2d85d4a758290e\n",
      "0x7c00159b5b1b1d25:0x8d2d85d4a758290e\n"
     ]
    }
   ],
   "source": [
    "print(users_reviews[0]['gmap_id'])\n",
    "print(users_reviews[1]['gmap_id'])"
   ]
  },
  {
   "cell_type": "code",
   "execution_count": 5,
   "metadata": {},
   "outputs": [],
   "source": [
    "businesses = []\n",
    "for l in parse(\"meta-Hawaii.json.gz\"):\n",
    "  businesses.append(l)"
   ]
  },
  {
   "cell_type": "code",
   "execution_count": 6,
   "metadata": {},
   "outputs": [
    {
     "name": "stdout",
     "output_type": "stream",
     "text": [
      "number of business: 11686\n"
     ]
    }
   ],
   "source": [
    "business_user = defaultdict(list)\n",
    "for d in users_reviews:\n",
    "    business_user[d['gmap_id']].append(d['user_id'])\n",
    "\n",
    "# print number of business\n",
    "print(f\"number of business: {len(business_user)}\")"
   ]
  },
  {
   "cell_type": "code",
   "execution_count": 7,
   "metadata": {},
   "outputs": [],
   "source": [
    "# extract all business id from businesses\n",
    "business_id = []\n",
    "for d in businesses:\n",
    "    business_id.append(d['gmap_id'])"
   ]
  },
  {
   "cell_type": "code",
   "execution_count": 11,
   "metadata": {},
   "outputs": [
    {
     "data": {
      "text/plain": [
       "['0x7c00456eecad3111:0x8217f9600c51f33',\n",
       " '0x7c00159b5b1b1d25:0x8d2d85d4a758290e',\n",
       " '0x7954d376a8b12db3:0xa51dd57e1cc14ca9',\n",
       " '0x7954d370921ff6bd:0x3193ba783e26d032',\n",
       " '0x7c006df045b01715:0xe945c308688e1a46',\n",
       " '0x7c006de89f2d86e1:0x23d998532e9317a6',\n",
       " '0x7c0065ffde090f89:0x910053daf03f6f3f',\n",
       " '0x7c00660d84ab0d0b:0x781932dc137c7a06',\n",
       " '0x7c006f4a2bf83f7d:0x192f04f2b228fefe',\n",
       " '0x79530ace67ee62b5:0xef6d8b0c8ee1cf79']"
      ]
     },
     "execution_count": 11,
     "metadata": {},
     "output_type": "execute_result"
    }
   ],
   "source": [
    "business_id[:10]"
   ]
  },
  {
   "cell_type": "code",
   "execution_count": 9,
   "metadata": {},
   "outputs": [],
   "source": [
    "# check if every business in users dataset is in business dataset\n",
    "for b in business_user:\n",
    "    if b not in business_id:\n",
    "        print(f\"business {b} not in business dataset\")"
   ]
  },
  {
   "cell_type": "markdown",
   "metadata": {},
   "source": [
    "## Linear Regression (baseline)"
   ]
  },
  {
   "cell_type": "code",
   "execution_count": null,
   "metadata": {},
   "outputs": [],
   "source": [
    "def MSE(predictions, labels):\n",
    "    differences = [(x - y) ** 2 for x, y in zip(predictions, labels)]\n",
    "    return sum(differences) / len(differences)"
   ]
  },
  {
   "cell_type": "code",
   "execution_count": null,
   "metadata": {},
   "outputs": [],
   "source": [
    "train_X = [[1, d[0]] for d in train_data]\n",
    "train_y = [u['rating'] for u in train_users_reviews]"
   ]
  },
  {
   "cell_type": "code",
   "execution_count": null,
   "metadata": {},
   "outputs": [],
   "source": [
    "model = linear_model.LinearRegression()\n",
    "model.fit(train_X, train_y)\n",
    "predictions = model.predict(test_X)"
   ]
  },
  {
   "cell_type": "code",
   "execution_count": null,
   "metadata": {},
   "outputs": [],
   "source": [
    "mse = MSE(predictions, test_y)"
   ]
  }
 ],
 "metadata": {
  "kernelspec": {
   "display_name": "Python 3.9.6 64-bit",
   "language": "python",
   "name": "python3"
  },
  "language_info": {
   "codemirror_mode": {
    "name": "ipython",
    "version": 3
   },
   "file_extension": ".py",
   "mimetype": "text/x-python",
   "name": "python",
   "nbconvert_exporter": "python",
   "pygments_lexer": "ipython3",
   "version": "3.10.9"
  },
  "vscode": {
   "interpreter": {
    "hash": "31f2aee4e71d21fbe5cf8b01ff0e069b9275f58929596ceb00d14d90e3e16cd6"
   }
  }
 },
 "nbformat": 4,
 "nbformat_minor": 2
}
