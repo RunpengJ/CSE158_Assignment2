{
 "cells": [
  {
   "cell_type": "code",
   "execution_count": 1,
   "metadata": {},
   "outputs": [],
   "source": [
    "import gzip\n",
    "from collections import defaultdict\n",
    "import math\n",
    "import scipy.optimize\n",
    "from sklearn import svm\n",
    "import numpy\n",
    "import string\n",
    "import random\n",
    "import string\n",
    "from sklearn import linear_model\n",
    "import json"
   ]
  },
  {
   "cell_type": "code",
   "execution_count": 2,
   "metadata": {},
   "outputs": [],
   "source": [
    "def parse(path):\n",
    "  g = gzip.open(path, 'r')\n",
    "  for l in g:\n",
    "    yield json.loads(l)"
   ]
  },
  {
   "cell_type": "code",
   "execution_count": 3,
   "metadata": {},
   "outputs": [],
   "source": [
    "users = []\n",
    "for l in parse(\"review-Hawaii_10.json.gz\"):\n",
    "  users.append(l)\n",
    "\n"
   ]
  },
  {
   "cell_type": "code",
   "execution_count": 8,
   "metadata": {},
   "outputs": [
    {
     "name": "stdout",
     "output_type": "stream",
     "text": [
      "users dataset length: 1504347\n",
      "users dataset example:\n"
     ]
    },
    {
     "data": {
      "text/plain": [
       "{'user_id': '113965417079576625433',\n",
       " 'name': 'manuel grimaldo',\n",
       " 'time': 1591839903487,\n",
       " 'rating': 5,\n",
       " 'text': 'Great new upgrade',\n",
       " 'pics': None,\n",
       " 'resp': None,\n",
       " 'gmap_id': '0x7c00159b5b1b1d25:0x8d2d85d4a758290e'}"
      ]
     },
     "execution_count": 8,
     "metadata": {},
     "output_type": "execute_result"
    }
   ],
   "source": [
    "print(f\"users dataset length: {len(users)}\")\n",
    "print(\"users dataset example:\")\n",
    "users[0]"
   ]
  },
  {
   "cell_type": "code",
   "execution_count": 5,
   "metadata": {},
   "outputs": [],
   "source": [
    "business = []\n",
    "for l in parse(\"meta-Hawaii.json.gz\"):\n",
    "  business.append(l)"
   ]
  },
  {
   "cell_type": "code",
   "execution_count": 9,
   "metadata": {},
   "outputs": [
    {
     "name": "stdout",
     "output_type": "stream",
     "text": [
      "business dataset length: 1504347\n",
      "business dataset example:\n"
     ]
    },
    {
     "data": {
      "text/plain": [
       "{'name': 'Hale Pops',\n",
       " 'address': 'Hale Pops, 55-370 Kamehameha Hwy, Laie, HI 96762',\n",
       " 'gmap_id': '0x7c00456eecad3111:0x8217f9600c51f33',\n",
       " 'description': None,\n",
       " 'latitude': 21.637795699999998,\n",
       " 'longitude': -157.9207142,\n",
       " 'category': ['Restaurant'],\n",
       " 'avg_rating': 4.4,\n",
       " 'num_of_reviews': 18,\n",
       " 'price': None,\n",
       " 'hours': [['Thursday', '11AM–8PM'],\n",
       "  ['Friday', '11AM–8PM'],\n",
       "  ['Saturday', '11AM–8PM'],\n",
       "  ['Sunday', 'Closed'],\n",
       "  ['Monday', '11AM–8PM'],\n",
       "  ['Tuesday', '11AM–8PM'],\n",
       "  ['Wednesday', '11AM–8PM']],\n",
       " 'MISC': {'Service options': ['Outdoor seating', 'Takeout', 'Delivery'],\n",
       "  'Popular for': ['Lunch', 'Solo dining'],\n",
       "  'Accessibility': ['Wheelchair accessible entrance'],\n",
       "  'Offerings': ['Comfort food', 'Quick bite'],\n",
       "  'Amenities': ['Good for kids'],\n",
       "  'Atmosphere': ['Casual'],\n",
       "  'Crowd': ['Groups', 'Tourists'],\n",
       "  'Payments': ['NFC mobile payments']},\n",
       " 'state': 'Closed ⋅ Opens 11AM',\n",
       " 'relative_results': ['0x7c00451360f80cf1:0x930291a38bab3132',\n",
       "  '0x7c00457322571d57:0xe3974e89bbfc41ce',\n",
       "  '0x7c0045173c1aa2f1:0xf79112d075128937',\n",
       "  '0x7c00504a8dc1b0b7:0x5cd641e56c7ad9e',\n",
       "  '0x7c00456f42129445:0xda91d3d21022933b'],\n",
       " 'url': 'https://www.google.com/maps/place//data=!4m2!3m1!1s0x7c00456eecad3111:0x8217f9600c51f33?authuser=-1&hl=en&gl=us'}"
      ]
     },
     "execution_count": 9,
     "metadata": {},
     "output_type": "execute_result"
    }
   ],
   "source": [
    "print(f\"business dataset length: {len(users)}\")\n",
    "print(\"business dataset example:\")\n",
    "business[0]"
   ]
  },
  {
   "cell_type": "code",
   "execution_count": null,
   "metadata": {},
   "outputs": [],
   "source": []
  }
 ],
 "metadata": {
  "kernelspec": {
   "display_name": "Python 3.9.6 64-bit",
   "language": "python",
   "name": "python3"
  },
  "language_info": {
   "codemirror_mode": {
    "name": "ipython",
    "version": 3
   },
   "file_extension": ".py",
   "mimetype": "text/x-python",
   "name": "python",
   "nbconvert_exporter": "python",
   "pygments_lexer": "ipython3",
   "version": "3.10.9"
  },
  "vscode": {
   "interpreter": {
    "hash": "31f2aee4e71d21fbe5cf8b01ff0e069b9275f58929596ceb00d14d90e3e16cd6"
   }
  }
 },
 "nbformat": 4,
 "nbformat_minor": 2
}
