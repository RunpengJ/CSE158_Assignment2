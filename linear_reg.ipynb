{
 "cells": [
  {
   "cell_type": "code",
   "execution_count": 1,
   "metadata": {},
   "outputs": [],
   "source": [
    "import gzip\n",
    "from collections import defaultdict\n",
    "import math\n",
    "import scipy.optimize\n",
    "from sklearn import svm\n",
    "import numpy as np\n",
    "import string\n",
    "import random\n",
    "import string\n",
    "import json\n",
    "from nltk.stem import PorterStemmer\n",
    "from sklearn import linear_model"
   ]
  },
  {
   "cell_type": "code",
   "execution_count": 2,
   "metadata": {},
   "outputs": [],
   "source": [
    "def parse(path):\n",
    "  g = gzip.open(path, 'r')\n",
    "  for l in g:\n",
    "    yield json.loads(l)"
   ]
  },
  {
   "cell_type": "code",
   "execution_count": 3,
   "metadata": {},
   "outputs": [],
   "source": [
    "users_reviews = [l for l in parse(\"review-Hawaii_10.json.gz\")]\n",
    "businesses = [l for l in parse(\"meta-Hawaii.json.gz\")]"
   ]
  },
  {
   "cell_type": "code",
   "execution_count": 44,
   "metadata": {},
   "outputs": [
    {
     "name": "stdout",
     "output_type": "stream",
     "text": [
      "['Party equipment rental service', 'Tea exporter', 'Video production service', 'Business park', 'Country club', 'Screen printing supply store', 'Computer security service', 'Massage therapist', 'Electric vehicle charging station', 'Scout home', 'Grocery store', 'Insurance agency', 'Cattle farm', 'Meeting planning service', 'Electronics store', 'Garage door supplier', 'Transmission shop', 'Airbrushing service', 'Indian restaurant', 'Dessert restaurant', 'Local history museum', 'Aromatherapy service', 'Office services', 'Hostel', 'Alternative fuel station', 'Flea market', 'Make-up artist', 'Tunnel', 'Garden furniture shop', 'Glassware wholesaler', 'Alcoholism treatment program', 'Ceramics wholesaler', 'Heating equipment supplier', 'Literacy program', 'Psychic', 'Breakfast restaurant', 'Swimming instructor', 'Beautician', 'Office supply store', 'Herbalist', 'Meditation center', 'Parasailing ride service', 'House cleaning service', 'Pet store', 'Motor vehicle dealer', 'Nut store', 'Cattery', 'Property investment', 'Army & navy surplus shop', 'Marine engineer', 'Dive club', 'Raft trip outfitter', 'Physical therapy clinic', 'Cremation service', 'Music school', 'Local government office', 'Running store', 'Fusion restaurant', 'Military residence', 'Yacht club', 'Boating instructor', 'Chinese medicine clinic', 'Trail head', 'Food producer', 'Oriental goods store', 'Karate school', 'Creole restaurant', 'Ophthalmology clinic', 'Bedding store', 'Topsoil supplier', 'Hunting area', 'Jeep dealer', 'Tattoo shop', 'Refrigerator repair service', 'Holiday accommodation service', 'Social services organization', 'Hot pot restaurant', 'Counselor', 'Lamp repair service', 'Puerto Rican restaurant', 'Mortgage broker', 'Periodontist', 'Vocational school', 'Low income housing program', 'Orthopedic surgeon', 'Technology park', 'Professional services', 'Plastic surgery clinic', 'Paralegal services provider', 'Swimming pool supply store', 'General store', 'Dental implants provider', 'Plastic surgeon', 'Cheese shop', 'Vitamin & supplements store', 'Religious destination', 'Occupational therapist', 'War memorial', 'Southeast Asian restaurant', 'Oral surgeon', 'Cell phone store', 'Live music bar', 'Appliance store', 'Car wash', 'Passport photo processor', 'Training school', 'Halal restaurant', 'Hockey supply store', 'Kosher restaurant', 'Unitarian Universalist Church', 'Records storage facility', 'Futon store', 'Acura dealer', 'Estate liquidator', 'Horse boarding stable', 'Life coach', 'Motorcycle rental agency', 'Coin dealer', 'Fax service', 'Computer support and services', 'Eye care center', 'Horse breeder', 'University library', 'Gourmet grocery store', 'Bagel shop', 'Retreat center', 'Association or organization', \"Jehovah's Witness Kingdom Hall\", 'Computer repair service', 'Metal supplier', 'Raw food restaurant', 'Event management company', 'Telecommunications contractor', 'Auto tune up service', 'Packaging supply store', 'Golf course', 'Soft drinks shop', 'Party store', 'Canoe and kayak club', 'War museum', 'Scooter repair shop', 'Border crossing station', 'Design engineer', 'Web hosting company', 'Steel distributor', 'Freight forwarding service', 'Uzbeki restaurant', 'Picnic ground', 'Design agency', 'Shipping company', 'Cantonese restaurant', 'Amusement center', 'Civil engineer', 'Beach pavillion', 'Sicilian restaurant', 'Entertainer', 'Candy store', 'Cajun restaurant', 'Womens personal trainer', 'Pet funeral service', 'Art gallery', 'Human resource consulting', 'Sand & gravel supplier', 'Pain management physician', \"Children's clothing store\", 'Landscape designer', 'Vietnamese restaurant', 'Aircraft rental service', 'Military base', 'Mental health service', 'Public swimming pool', 'Frozen dessert supplier', 'Reproductive health clinic', 'Palace', 'Coin operated laundry equipment supplier', 'Water works equipment supplier', 'Event ticket seller', 'Fish & chips restaurant', 'Screen store', 'Windsurfing store', 'Movie rental store', \"Children's hospital\", 'Sichuan restaurant', 'Park', 'Property management company', 'Social security office', 'Observation deck', 'Power station', 'National park', 'Dance company', 'Podiatrist', 'Okonomiyaki restaurant', 'Tool store', 'Bathroom remodeler', 'Nutritionist', 'Asian fusion restaurant', 'Cafe', 'Baseball club', 'Timeshare agency', 'Allergist', 'Episcopal church', 'Doll store', 'Police', 'Beauty supply store', 'Japanese delicatessen', 'Amusement park', 'Abortion clinic', 'Diesel fuel supplier', 'Candle store', 'Mattress store', 'Wholesaler', 'Mexican grocery store', 'Consultant', 'Education center', 'Denture care center', 'Radiator repair service', 'Rafting', 'Free parking lot', 'Orthoptist', 'Small engine repair service', 'Jewelry buyer', 'Home cinema installation', 'Concrete contractor', 'Cosmetics and perfumes supplier', 'Electric utility company', \"Public defender's office\", 'Kickboxing school', 'Legal affairs bureau', 'Mobility equipment supplier', 'Adoption agency', 'Digital printing service', 'State government office', 'Optical products manufacturer', 'Osteopath', 'Marine self defense force', 'Rock climbing instructor', 'Pulmonologist', 'Employment search service', 'Mailing service', 'Pan-Asian restaurant', 'Pottery classes', 'Picture frame shop', 'Meat products', 'State park', 'Taco restaurant', 'Civil engineering company', 'Seafood restaurant', 'Custom home builder', 'Golf instructor', 'National reserve', 'Cave', 'Packaging company', 'Regional airport', 'Fish and seafood restaurant', 'Knife store', 'Boat cover supplier', 'Barber shop', 'Social security attorney', 'Adventure sports center', 'Equipment rental agency', 'Shooting range', 'Lawyers association', 'Water tank cleaning service', 'Government office', 'Sightseeing tour agency', 'Training centre', 'Outdoor furniture store', 'Country park', 'Attorney referral service', 'School supply store', 'Orthopedic clinic', 'Eclectic restaurant', 'Auto dent removal service', 'Marriage celebrant', 'Apartment rental agency', 'Motorcycle dealer', 'Stadium', 'Furnace repair service', 'Specialized hospital', 'Kung fu school', 'Aged care', 'Banquet hall', 'Youth center', 'Tree service', 'Linens store', 'Fruits wholesaler', 'Veterinary care', 'Wildlife park', 'Sandblasting service', 'Shinto shrine', 'Boutique', 'Architectural salvage store', 'Indian takeaway', 'Korean grocery store', 'Laser hair removal service', 'Chocolate cafe', 'Military recruiting office', 'Wedding venue', 'Malaysian restaurant', 'Quilt shop', 'Child psychologist', 'Cardiologist', 'Septic system service', 'Salad shop', 'Garden', 'City government office', 'Musical instrument store', 'Asian household goods store', 'Caribbean restaurant', 'Olive oil bottling company', 'Car detailing service', 'Demolition contractor', 'Condominium rental agency', 'Shipping service', 'Hospital department', 'Film production company', 'Motorcycle shop', 'Adult entertainment club', 'Muffler shop', 'Piano moving service', 'Surgeon', 'Massage supply store', 'Homeless shelter', 'Internet cafe', 'Environmental organization', 'Basque restaurant', 'Sports school', 'Used motorcycle dealer', 'Place', 'Pet groomer', 'Pawn shop', 'Religious organization', 'Dialysis center', 'Elevated', 'Doctor', 'Photographer', 'Outlet store', 'Go-kart track', 'Driver and vehicle licensing agency', 'Container terminal', 'Wood and laminate flooring supplier', 'Christmas store', 'Music store', 'Coffee wholesaler', 'Uniform store', 'Closed circuit television', 'Emergency care service', 'Cleaning service', 'Indoor playground', 'Lodging', 'Mexican restaurant', 'Dental insurance agency', 'Wheelchair repair service', 'Copier repair service', 'Port authority', 'Island', 'Retaining wall supplier', 'Aerial photographer', 'Painting studio', 'Exhibition and trade centre', 'Stone supplier', 'Occupational health service', 'Marine protected area', 'Ambulance service', 'Pond contractor', 'Beauty school', 'Ballroom dance instructor', 'United Methodist church', 'User-operated machine', 'Patio enclosure supplier', 'Warehouse club', 'Educational supply store', 'Mobile hairdresser', 'Wholesale grocer', 'Tennis court', 'Art handcraft', 'Volunteer organization', 'Luggage store', 'School center', 'Spice store', 'Apartment complex', 'Moroccan restaurant', 'Dental laboratory', 'Tobacco shop', 'Pain control clinic', 'Child care agency', 'Astrologer', 'Night club', 'Lawn sprinkler system contractor', 'Lamination service', 'Athletic park', 'Display home centre', 'Beer store', 'T-shirt store', 'Ham shop', 'Moving and storage service', 'Trucking company', 'Mobile caterer', 'Cultural association', 'Transit depot', 'Preschool', 'College', 'Nurse practitioner', 'Billiards supply store', 'Food', 'Leather goods store', 'Retirement home', 'Bakery', 'Safety equipment supplier', 'Pizza restaurant', 'Logistics', 'Fresh food market', 'Food broker', 'Aerospace company', 'Chicken restaurant', 'Wholesale jeweler', 'Land mass', 'Foursquare church', 'Gas station', 'Material handling equipment supplier', 'Junkyard', 'Audio visual equipment rental service', 'Dessert shop', 'Adult DVD store', 'Tapas bar', 'Boarding house', 'Gastroenterologist', 'Print shop', 'Water damage restoration service', 'Emergency room', 'Car rental agency', 'Commercial printer', 'Alternative medicine practitioner', 'Plaza', 'Internet service provider', 'Massage', 'Economic development agency', 'Custom label printer', 'Oil change service', 'Pho restaurant', 'Spring', 'Dirt supplier', 'Army facility', 'Shoe repair shop', 'Bike sharing station', 'Restaurant', 'Baseball goods store', 'Toy store', 'Pregnancy care center', 'Organic shop', 'Californian restaurant', 'Life insurance agency', 'Painting', 'Awning supplier', 'General practitioner', 'Flower market', 'Jeweler', 'Mitsubishi dealer', 'Laundromat', 'Hospice', 'Contact lenses supplier', 'Batting cage center', 'Towing equipment provider', 'Health spa', 'Blueprint service', 'Vintage clothing store', 'Tuning automobile', 'Diesel engine repair service', 'Curtain store', 'Tex-Mex restaurant', \"Women's clothing store\", 'Storage facility', 'Bus station', 'Pan-Latin restaurant', 'Emergency care physician', 'Telephone company', 'Restaurant supply store', 'Cider bar', 'Police department', 'Historical place', 'Countertop contractor', 'Scandinavian restaurant', 'Jamaican restaurant', 'Metal detecting equipment supplier', 'Foundation', 'Patisserie', 'Poultry farm', 'Immigration & naturalization service', 'Bicycle repair shop', 'SCUBA instructor', 'Weight loss service', 'Toyota dealer', 'Media company', 'Solar hot water system supplier', 'Dart supply store', 'Religious book store', 'Lighting consultant', 'Florist', 'Water testing service', 'Paving contractor', 'Antique store', 'Welding supply store', 'Miniature golf course', 'Fire damage restoration service', 'Car leasing service', 'Bankruptcy service', 'Assemblies of God church', 'Cruise line company', 'Pressure washing service', 'Shrimp farm', 'Sports massage therapist', 'Lighting wholesaler', 'Performing arts theater', 'Catholic church', 'Orchid farm', 'Optical wholesaler', 'Coast guard station', 'Playground', 'Department store', 'Baseball field', 'Piano repair service', 'Kia dealer', 'Portable building manufacturer', 'Public wheelchair-accessible bathroom', 'Gas and automotive', 'Funeral director', 'Orthodontist', 'Bed & breakfast', 'Moped dealer', 'Map store', 'Aerial sports center', 'Western apparel store', 'Dog trainer', 'Electrical installation service', 'Corporate entertainment service', 'Trailer dealer', 'Dance hall', 'Food bank', 'Forestry service', 'Market', 'Aviation consultant', 'Wallpaper store', 'Chapel', 'Costume store', 'Athletic field', 'Eyebrow bar', 'New American restaurant', 'Incense supplier', 'Handicraft', 'Soup shop', 'Legal services', 'Marine surveyor', 'Bookbinder', 'Musician', 'Currency exchange service', 'Swim club', 'Rental', 'Building inspector', 'Teeth whitening service', 'Tax consultant', 'Land Rover dealer', 'Landscape lighting designer', 'Higher education', 'Business center', 'Comic book store', 'Weather forecast service', 'Engineer', 'Calvary Chapel church', 'Learning center', 'Lebanese restaurant', 'Costume jewelry shop', 'Botanical garden', 'Wedding store', 'Electrical supply store', 'Boxing gym', 'Hunan restaurant', 'Plumber', 'Discount store', 'Outdoor activity organiser', 'Yakiniku restaurant', 'Photography class', 'Orthotics & prosthetics service', 'Woods', 'Noodle shop', 'Recording studio', 'Yacht broker', 'Machine maintenance', 'Makerspace', 'Music instructor', 'Espresso bar', 'Toll booth', 'Bag shop', 'Optometrist', 'Latin American restaurant', 'Tile contractor', 'Mailbox supplier', 'Youth care', 'Physiotherapy equipment supplier', 'Martial arts school', 'Pub', 'Gas company', 'Pizza Takeout', 'Camera store', 'Mission', 'Custom tailor', 'Music producer', 'Property maintenance', 'Bus company', 'Hindu temple', 'Burmese restaurant', 'Pet boarding service', 'Hang gliding center', 'Gym', 'Korean restaurant', 'DJ service', 'Industrial real estate agency', 'Tire shop', 'Beer garden', 'X-ray lab', 'Butcher shop', 'Scenic spot', 'Office', 'Baptist church', 'Dentist', 'Used computer store', 'Amphitheater', 'Fishing pond', 'Self service car wash', 'Performing arts group', 'Department of Transportation', 'Conference center', 'Shelving store', 'Pet supply store', 'Playgroup', 'Medical group', 'Auto broker', 'Painter', 'Tea store', 'Drafting service', 'Fiberglass repair service', 'Camping cabin', 'Fingerprinting service', 'Market researcher', 'Tuxedo shop', 'Fried chicken takeaway', 'Watch repair service', 'Fabric store', 'Medical supply store', 'Animal hospital', 'Veterinarian', 'Rainwater tank supplier', 'Cooking class', 'Turkish restaurant', 'Bicycle wholesale', 'Fishing store', 'Truck parts supplier', 'Soccer field', 'Hat shop', 'Lexus dealer', 'Education', 'Cookie shop', 'Motorsports store', 'Wheel store', 'Fertility clinic', 'Produce wholesaler', 'Office supply', 'Laser tag center', 'Printer repair service', 'Rustic furniture store', 'Chrysler dealer', 'Molding supplier', 'Greek restaurant', 'Soup restaurant', 'Modular home builder', 'Truck rental agency', 'Post office', 'Mobile home rental agency', 'Home help service agency', 'Investment service', 'Car racing track', 'Laundry service', 'Boat ramp', 'Advertising service', 'Structural engineer', 'Pool cleaning service', 'Machine shop', 'Serviced apartment', 'Funeral home', 'Horse riding school', 'Fuel pump', 'Solar energy equipment supplier', 'Confectionery', 'Apartments', 'Meat dish restaurant', 'Local medical services', 'Telecommunications service provider', 'High school', 'Pest control service', 'Dinner theater', 'Flight school', 'Criminal justice attorney', 'Dog walker', 'Air force base', 'Health insurance agency', 'Corporate office', 'Australian restaurant', 'Microwave oven repair service', 'Used office furniture store', 'Building materials supplier', 'Sign shop', 'University', 'Hot dog stand', 'Korean church', 'Tesla showroom', 'Needlework shop', 'Bicycle rack', 'Cutlery store', 'Hairdresser', 'Architect', 'Tour operator', 'Window treatment store', 'Industrial gas supplier', 'Tire repair shop', 'Auto body shop', 'Lawn mower store', 'Recreation center', 'Entertainment and recreation', 'Adult day care center', 'Desktop publishing service', \"Children's museum\", 'Transportation service', 'Truck topper supplier', 'Group accommodation', 'Landscape architect', 'Home help', 'Plastic wholesaler', 'Marble supplier', 'Business networking company', 'Tanning salon', 'Coffee machine supplier', 'Authentic Japanese restaurant', 'Photography', 'School house', 'Arena', 'Auto parts store', 'Importer', 'Water filter supplier', 'European restaurant', 'Military hospital', 'Goldsmith', 'Soul food restaurant', 'Meat packer', 'Wedding photographer', 'Strait', 'Trade school', 'Computer store', 'Civil law attorney', 'Millwork shop', 'Repair service', 'Volcano', 'Adult entertainment store', 'Airport', 'Animal rescue service', 'Accounting firm', 'Sod supplier', 'Oral and maxillofacial surgeon', 'Trailer rental service', 'Vehicle inspection', 'Construction and maintenance office', 'Photography service', 'Volleyball court', 'Buddhist temple', 'Historical place museum', 'Bowling alley', 'Bar', 'Lake', 'Photo lab', 'Tennis club', 'Sundae restaurant', 'Racing car parts store', 'Youth social services organization', 'Civic center', 'Asian grocery store', 'Wedding bakery', 'Reef flat', 'Karaoke', 'Herb shop', 'Weddings', 'Suzuki dealer', 'Animal protection organization', 'Sculpture', 'Fish store', 'Orthodox church', 'Furniture store', 'Meat processor', 'Martial arts club', 'Hospital', 'Convention center', 'Bar stool supplier', 'Artificial plant supplier', 'Walk-in clinic', 'Heritage preservation', 'General practice attorney', 'Commercial real estate inspector', 'Recycling container location', 'Swimming basin', 'Farm', 'Artist', 'Dodge dealer', 'Auto body parts supplier', 'Sports activity location', 'Check cashing service', 'Muay Thai boxing gym', 'After school program', 'Skin care products vending machine', 'Audi dealer', 'Pretzel store', 'Place of worship', 'Air duct cleaning service', 'Truck dealer', 'Real estate consultant', 'Marketing agency', 'Sports medicine clinic', 'Computer software store', 'Nursing school', 'Airsoft supply store', 'Vista point', 'Hair salon', 'Cell phone accessory store', 'Supermarket', 'Waxing hair removal service', 'Salvage yard', 'Gay night club', 'Soccer store', 'Employment center', 'Laundry', 'Construction material wholesaler', 'Window cleaning service', 'Bathroom supply store', 'Synagogue', 'Chocolate artisan', 'Masonry contractor', 'Grill', 'Jazz club', 'Home automation company', 'Brazilian restaurant', 'Light bulb supplier', 'Bus charter', 'Day spa', 'Subaru dealer', 'Recycling center', 'Debris removal service', 'Sports medicine physician', 'Plumbing supply store', 'Inn', 'Law firm', 'Social services', 'Employment agency', 'Paintball center', 'Hand surgeon', 'Furniture repair shop', 'Endodontist', 'Health and beauty shop', 'Used truck dealer', 'Non-denominational church', 'Agricultural service', 'Farm equipment repair service', 'Diamond dealer', 'Van rental agency', 'Asbestos testing service', 'Art school', 'Courthouse', \"Homeowners' association\", 'Christmas tree farm', 'Homeopathic pharmacy', 'Water purification company', 'Non-profit organization', 'Indoor lodging', 'Bottle & can redemption center', 'Stucco contractor', 'Watch manufacturer', 'Beach', 'Real estate agency', 'Buffet restaurant', 'Drilling contractor', 'Mercedes-Benz dealer', 'Ranch', 'Coworking space', 'Beauty products wholesaler', 'Magazine store', 'Woodworker', 'Nissan dealer', 'Popcorn store', 'Liquidator', 'Newspaper publisher', 'Craft store', 'Winemaking supply store', 'Concrete product supplier', 'Agricultural cooperative', 'Engineering consultant', 'Perfume store', 'Electrical repair shop', 'Baby clothing store', 'Basketball court', 'Public bathroom', 'Aircraft supply store', 'Camp', 'ATV dealer', 'English language school', 'Federal credit union', 'Watch store', 'Açaí shop', 'Honda dealer', 'Business development service', 'Duty free store', 'Adventure sports', 'Camping farm', 'Tool repair shop', 'Tennis instructor', 'Eyelash salon', 'Glass blower', 'Washer & dryer repair service', 'Play school', 'Lawn mower repair service', 'Food and drink', 'Battery store', 'Travel lounge', 'Occupational medical physician', 'Laotian restaurant', 'Auto sunroof shop', 'Orchestra', 'Addiction treatment center', 'Bus tour agency', 'Technical school', 'Modern European restaurant', 'Public educational institution', 'Ridge', 'Art', 'Propane supplier', 'Fruit and vegetable store', 'Skateboard park', 'Orchid grower', 'Swimming pool', 'Dim sum restaurant', 'Virtual office rental', 'Tonkatsu restaurant', 'Stage lighting equipment supplier', 'Children hall', 'Lighting store', 'Tax department', 'Comedy club', 'Reservoir', 'MINI dealer', 'Bedroom furniture store', 'Paintings store', 'Computer accessories store', 'Air conditioning store', 'Wi-Fi spot', 'Swimming pool contractor', 'Well drilling contractor', 'Emergency locksmith service', 'Credit counseling service', 'Fertilizer supplier', 'Pacific Rim restaurant', 'Fruit wholesaler', 'Wig shop', 'Urologist', 'Heritage building', 'Animal park', 'Water treatment supplier', 'Disciples of Christ Church', 'Balloon store', 'Winery', 'Udon noodle restaurant', 'Christian church', 'Solar energy company', 'Mediation service', 'Coffee stand', 'Beverage distributor', 'Harley-Davidson dealer', 'Self defense school', 'Bait shop', 'Church', 'Art dealer', 'Clothing wholesaler', 'Conveyor belt sushi restaurant', 'Modern izakaya restaurants', 'Religious institution', 'Korean barbecue restaurant', 'BMW motorcycle dealer', 'Food and beverage consultant', 'Organic restaurant', 'Coffee store', 'Vegetation', 'Pentecostal church', 'Window supplier', 'Financial planner', 'Welding gas supplier', 'Guitar store', 'Clothing', 'Insulation materials store', 'Japanese curry restaurant', 'Educational institution', 'Refrigerator store', 'Nanotechnology engineer', 'Sake brewery', 'Skydiving center', 'Process server', 'Castle', 'Wedding chapel', 'Planetarium', 'Recreational vehicle rental agency', 'Chinese noodle restaurant', 'Chocolate factory', 'Church of Christ', 'Youth group', 'Notary public', 'Piano store', 'Pet trainer', 'Information bureau', 'Laboratory equipment supplier', 'Wildlife rescue service', 'Coffee roasters', 'Video equipment repair service', 'Helicopter tour agency', 'Distribution service', 'Glass block supplier', 'Home theater store', 'Typing service', 'Mountain peak', 'Book store', 'Wildlife refuge', 'Gasfitter', 'Door manufacturer', 'Retirement community', 'Taiwanese restaurant', 'Private golf course', 'Plastic products supplier', 'Cigar shop', 'SCUBA tour agency', 'Auditorium', 'Motorcycle parts store', 'Shower door shop', 'Boat dealer', 'Flower delivery', 'Internet marketing service', 'Water skiing instructor', 'Feng shui shop', 'Motor scooter dealer', 'Business management consultant', 'Vocational college', 'South Asian restaurant', 'Forensic consultant', 'Water sports equipment rental service', \"Men's clothing store\", 'Health', 'Health food store', 'Work clothes store', 'Gun club', 'Antique furniture restoration service', 'Non-governmental organization', 'Aquaculture farm', 'Lingerie store', 'Spa', 'Fire protection system supplier', 'Emergency dental service', 'Electrical engineer', 'Childrens cafe', 'Handbags shop', 'Orthodox synagogue', 'Colombian restaurant', 'Pilates studio', 'Tractor repair shop', 'Balloon artist', 'Baseball', 'Fairground', 'Coffee shop', 'Taxi service', 'RV storage facility', 'Prison', 'Scrap metal dealer', 'Sports nutrition store', 'Sewing shop', 'Meat wholesaler', 'Key duplication service', 'Vacuum cleaner repair shop', 'Shabu-shabu restaurant', 'Office equipment rental service', 'Handyman', 'American restaurant', 'Fuel supplier', 'Land surveyor', 'Stereo repair service', 'Chocolate shop', 'Guitar instructor', 'Quarry', 'Medical office', 'Chicken wings restaurant', 'Gay bar', 'Sailing school', 'Embroidery shop', 'Presbyterian church', 'Handicraft fair', 'ATM', 'Stock broker', 'Family service center', 'Floor refinishing service', 'Video arcade', 'Italian restaurant', 'Barber school', 'Carpet installer', 'Flooring', 'Video conferencing service', 'Drug store', 'Baking supply store', 'Emergency veterinarian service', 'Taekwondo school', 'Pastry shop', 'Concert hall', 'Jewelry appraiser', 'Promotional products supplier', 'Aggregate supplier', 'Sports memorabilia store', 'DVD store', 'Nail art', 'Arts organization', 'Elevator service', 'Cadillac dealer', 'Scrapbooking store', 'T-shirt company', 'Liquor store', 'Farmstay', 'Triumph motorcycle dealer', 'Hair replacement service', 'Second hand store', 'Housing development', 'Lamp shade supplier', 'Technical service', 'Water park', 'Archive', 'Trophy shop', 'Hookah store', 'Airstrip', 'Toner cartridge supplier', 'Garage builder', 'Lodge', 'Tailor', 'Glazier', 'Sports equipment rental service', 'Powder coating service', 'Pond fish supplier', 'Luggage storage facility', 'Jewelry engraver', 'Public sauna', 'Sandwich shop', 'Baby store', 'Environmental program', 'Arboretum', 'Gastropub', 'Amusement park ride', 'Hydraulic equipment supplier', 'Environmental engineer', 'Construction', 'Escape room center', 'Educational consultant', 'Water ski shop', 'Blood donation center', 'Wine bar', 'Emergency training school', 'Garbage dump service', 'Road construction company', 'Business related', 'Glass etching service', 'Radio broadcaster', 'Notable street', 'Aquatic centre', 'Peruvian restaurant', 'Ethiopian restaurant', 'Beer hall', 'Auto spring shop', 'Naturopathic practitioner', 'Auto machine shop', 'Cliff', 'Wellness program', 'Antique furniture store', 'Exhibit', 'Ecological park', 'Wetland', 'Public health department', 'Shipping and mailing service', 'Karaoke bar', 'Wedding service', 'Agricultural product wholesaler', 'Chevrolet dealer', 'High ropes course', 'Gift wrap store', 'Invitation printing service', 'Photo shop', 'Hookah bar', 'Music management and promotion', 'Emergency training', 'Sports card store', 'Tree farm', 'Logistics service', 'Brake shop', 'Collectibles store', 'Natural feature', 'Swimming lake', 'Gold dealer', 'Pet friendly accommodation', 'Surgical supply store', 'Nursing agency', 'Department of finance', 'Bonsai plant supplier', 'Gluten-free restaurant', 'Foreign consulate', 'Gift basket store', 'Financial consultant', 'Home audio store', 'Gas cylinders supplier', 'Auto insurance agency', 'Tent rental service', 'Irish pub', 'Reiki therapist', 'Private tutor', 'Courier service', 'Entertainment', 'Neapolitan restaurant', 'Woodworking supply store', 'Stable', 'Blues club', 'Social worker', 'Auto auction', 'Car accessories store', 'Archipelago', 'Furniture wholesaler', 'Snowboard shop', 'Catholic cathedral', 'Corporate campus', 'Rock climbing', 'Rice restaurant', 'Upholstery shop', 'Firearms academy', 'Sailing club', 'Model car play area', 'Charcuterie', 'Art museum', 'Silversmith', 'Drive-in movie theater', 'Sport tour agency', 'Art cafe', 'Heliport', 'Construction machine rental service', 'Leather cleaning service', 'Thrift store', 'Pool hall', 'Outlet mall', 'Family restaurant', 'Limousine service', 'Immigration attorney', 'Kitchen furniture store', 'Bar & grill', 'Welder', 'Tractor dealer', 'Theater production', 'Youth clothing store', 'Manufacturer', 'Health food restaurant', 'Heritage museum', 'Shredding service', 'Community service', 'Concrete metal framework supplier', 'Porsche dealer', 'Fabric product manufacturer', 'Middle Eastern restaurant', 'Home inspector', 'Pet adoption service', 'Scaffolding rental service', 'Fitness center', 'Blood bank', 'Facial spa', 'Disc golf course', 'Television repair service', 'Tutoring service', 'Passport office', 'Dress store', 'Payroll service', 'Gutter cleaning service', 'Used book store', 'Clothing supplier', 'Cake shop', 'Steel fabricator', 'Fashion designer', 'Military cemetery', 'Biotechnology company', 'Certified public accountant', 'Food delivery', 'National forest', 'Business school', 'Tattoo artist', 'Computer consultant', 'Car repair and maintenance', 'Family practice physician', 'Personal injury attorney', 'Commercial real estate agency', 'Kawasaki motorcycle dealer', 'Massage spa', 'Beauty salon', 'Farm household tour', 'Hot dog restaurant', 'Dry wall supply store', 'Dietitian', 'Bookkeeping service', 'Bead store', 'Television station', 'Irrigation equipment supplier', 'Natural stone supplier', 'Flower designer', 'Lutheran church', 'Cable company', 'Cabinet maker', 'Water treatment plant', 'Bicycle store', 'Culinary school', 'Yarn store', 'Auto wrecker', 'French restaurant', 'Weigh station', 'Flag store', 'Self-catering accommodation', 'Campground', 'Appliance repair service', 'Hot tub store', 'Reef', 'Club', 'Diner', 'ATV repair shop', 'BMW dealer', 'Transportation infrastructure', 'Burglar alarm store', 'Hardware store', 'City courthouse', 'Building consultant', 'Roofing supply store', 'Body piercing shop', 'Outdoor bath', 'Frozen food manufacturer', 'Dance club', 'Formal wear store', 'Nail salon', 'Wellness center', 'Glass merchant', 'Small appliance repair service', 'Indian grocery store', 'Exercise equipment store', 'Commercial photographer', 'Reflexologist', 'HVAC contractor', 'Equestrian facility', 'Orthopedic shoe store', 'Wine club', 'Agricultural production', 'Hair care', 'History museum', 'Movie rental kiosk', 'Veterinary pharmacy', 'Karaoke equipment rental service', 'Filipino restaurant', 'Drainage service', 'Electric motor repair shop', 'Seafood wholesaler', 'Gardener', 'Hobby store', 'Internist', 'Blinds shop', 'Air conditioning contractor', 'Hearing aid repair service', 'Foot bath', 'Utility contractor', 'Office equipment supplier', 'GMC dealer', 'Jewelry designer', 'Shelter', 'Whale watching tour agency', 'Countertop store', 'Yoga studio', 'Canal', 'Mediterranean restaurant', 'Car manufacturer', 'Box lunch supplier', 'Private educational institution', 'Car security system installer', 'Truck accessories store', 'Vaporizer store', 'Souvenir store', 'Specialized clinic', 'Service establishment', 'Marketing consultant', 'Mechanic', 'Burrito restaurant', 'Buick dealer', 'Aboriginal and Torres Strait Islander organisation', 'Physical examination center', 'Childrens book store', 'Senior citizen center', 'Golf club', 'Gymnastics center', 'Bowling supply shop', 'Gymnastics club', 'Janitorial equipment supplier', 'Aikido club', 'Brunch restaurant', 'Hydroponics equipment supplier', 'Monastery', 'Vacation home rental agency', 'Hydraulic repair service', 'Sauna', 'Asian restaurant', 'Medical diagnostic imaging center', 'Vegan restaurant', 'Southern restaurant (US)', 'Do-it-yourself shop', 'Ophthalmologist', 'Wheel alignment service', 'Tattoo and piercing shop', 'Air conditioning system supplier', 'Shopping mall', 'Water pump supplier', 'Federal police', 'Restaurant or cafe', 'Metaphysical supply store', 'Carpet cleaning service', 'Waterfall', 'Tourism', 'Donations center', 'Reptile store', 'City park', 'Used furniture store', 'Charity', 'Elementary school', 'Art studio', 'Commercial cleaning service', 'Contractor', 'Engraver', 'Horseback riding service', 'Thai massage therapist', 'Library', 'River', 'Foot massage parlor', 'Cold noodle restaurant', 'Car alarm supplier', 'Harbor', 'Pancake restaurant', 'Automobile storage facility', 'Auto glass shop', 'Football Field', 'Tool rental service', 'Hotel', 'Observatory', 'Health consultant', 'Video karaoke', 'Butcher shop deli', 'Summer camp', 'Sushi restaurant', 'Religious goods store', 'Modern French restaurant', 'Roadside assistance', 'Food manufacturer', 'Video editing service', 'Hair extensions supplier', 'Electronic parts supplier', 'Ice skating rink', 'Home builder', 'Wholesale plant nursery', 'Computer training school', 'Cabin rental agency', 'Preparatory school', 'Gift shop', \"Renter's insurance agency\", 'Memorial park', 'Horse rental service', 'Used bicycle shop', 'Hyundai dealer', 'Real estate rental agency', 'Canoe & kayak rental service', 'Bus ticket agency', 'Hamburger restaurant', 'Yakitori restaurant', 'Bridal shop', 'Employment consultant', 'IMAX theater', 'Reformed church', 'Cleaning products supplier', 'Takeout restaurant', 'CD store', 'Wholesale florist', 'Group home', 'Meeting room', 'Violin shop', 'Screen printer', 'Heating contractor', 'Tax preparation service', 'Environmental health service', 'Modern Indian restaurant', 'Lamborghini dealer', 'Bed shop', 'Lawn irrigation equipment supplier', 'Accountant', 'Sports bar', 'Chauffeur service', 'Distillery', 'Trial attorney', 'Custom t-shirt store', 'Greeting card shop', 'Musical club', 'Labor union', 'Arborist and tree surgeon', 'Carport and pergola builder', 'Rock shop', 'Water softening equipment supplier', 'Furniture rental service', 'Door shop', 'Kitchen remodeler', 'Trading card store', 'Furniture accessories', \"Women's health clinic\", 'Data recovery service', 'Auto air conditioning service', 'Dog park', 'Sunglasses store', 'Visitor center', 'Truss manufacturer', 'Evangelical church', \"Children's furniture store\", 'Plus size clothing store', 'Internet shop', 'Website designer', 'Monogramming service', 'Title company', 'Piano instructor', 'Novelty store', 'Seed supplier', 'Clothes market', 'Extended stay hotel', 'Dance restaurant', 'Organic farm', 'Telephone answering service', 'Shoe store', 'Veterans organization', 'Shrine', 'Delivery service', 'Airport terminal', 'Cottage', 'Cupcake shop', 'Cottage village', 'Motorcycle insurance agency', 'Ear piercing service', 'Trailer supply store', 'Foam rubber supplier', 'Escrow service', 'Motel', 'Information services', 'Racecourse', 'Holiday apartment rental', 'Orchard', 'Bankruptcy attorney', 'Japanese steakhouse', 'Archery store', 'Upholstery cleaning service', 'Pet moving service', 'Chicken shop', 'Tour agency', 'Interior designer', 'Permanent make-up clinic', 'Traditional restaurant', 'Serviced accommodation', 'Dry cleaner', 'Stylist', 'Childrens party buffet', 'Fair', 'Fishing area', 'Park & ride', 'Festival', 'Vegetarian cafe and deli', 'Display stand manufacturer', 'Agricultural organization', 'Taoist temple', 'Rock climbing gym', 'Softball field', 'Mountaineering class', 'Copy shop', 'Dog breeder', 'Cat boarding service', 'Gated community', 'Auto painting', 'Childrens store', 'Beauty product supplier', 'Insurance company', 'Psychiatric hospital', 'Cosmetic dentist', 'Used CD store', 'Class', 'Ski rental service', 'Glass & mirror shop', 'Science museum', 'Travellers lodge', 'Hawaiian restaurant', 'Pediatric cardiologist', 'Washer & dryer store', 'Used clothing store', 'Credit union', 'Bicycle rental service', 'Car inspection station', 'Employment attorney', 'Travel agency', 'Outdoor sports store', 'Medical spa', 'Industrial equipment supplier', 'Party planner', 'Portable toilet supplier', 'Telecommunications', 'Fiber optic products supplier', 'Fence contractor', 'Security guard service', 'Fishing club', 'Public parking space', 'Shochu brewery', 'Car sharing location', 'Garbage collection service', 'Rodeo', 'Brewing supply store', 'Drum store', 'Health resort', 'Ice cream shop', 'Chiropractor', 'Atoll', 'Scooter rental service', 'Clothing store', 'Warehouse store', 'Suzuki motorcycle dealer', 'Real estate agents', 'Christian book store', 'E commerce agency', 'Towing service', 'Printing equipment and supplies', 'Poke bar', 'Japanese sweets restaurant', 'Chinese bakery', 'Event planner', 'Engine rebuilding service', 'Valet parking service', 'Photo restoration service', 'Electronic engineer', 'Homestay', 'Cars', 'Cafeteria', 'Coffee', 'Import export company', 'Mental health clinic', 'Catering food and drink supplier', 'Pond supply store', 'Izakaya restaurant', 'Hiking area', 'County government office', 'Tax preparation', 'Parking garage', 'Spiritist center', 'Ram dealer', 'Cold storage facility', 'Sportswear store', 'Figurine shop', 'Water skiing service', 'Customs broker', 'Liquor wholesaler', 'Air conditioning repair service', 'Waterproofing company', 'Auto radiator repair service', 'Holiday apartment', 'Real estate attorney', 'Swimming school', 'Kite shop', 'Bicycle Shop', 'Financial institution', 'Delivery Restaurant', 'Vehicle shipping agent', 'Fruit parlor', 'Bird shop', 'Swimming pool repair service', 'Lunch restaurant', 'Metal workshop', 'Medical clinic', 'Construction equipment supplier', 'Garbage dump', 'Diesel engine dealer', 'Radiologist', 'Car dealer', 'Bistro', 'Underwear store', 'Janitorial service', 'City tax office', 'Costume rental service', 'Military archive', 'Physical fitness program', 'Locksmith', 'Aviation', 'Magician', 'Historical society', 'City Hall', 'Auto repair shop', 'Auto restoration service', 'Driving school', 'South American restaurant', 'Plastic fabrication company', 'Rare book store', 'Surplus store', 'Marina', 'Home insurance agency', 'Door supplier', 'Research institute', 'Mapping service', 'Petroleum products company', 'Medical equipment supplier', 'Vacuum cleaner store', 'Hakka restaurant', 'Frozen yogurt shop', 'Ferry service', 'Lawn care service', 'Japanese grocery store', 'Water', 'Game store', 'Sports club', 'Hunting and fishing store', 'Channel', 'Solar energy contractor', 'Electronics repair shop', 'Generator shop', 'Surgical center', 'Softball club', 'Otolaryngologist', 'Audio visual equipment supplier', 'Landscaping supply store', 'Pet sitter', 'Fruit and vegetable processing', 'Digital printer', 'Building restoration service', 'Business to business service', 'Pediatrician', 'Paper distributor', 'Movie rental', 'Cultural center', 'Cathedral', 'School administrator', 'Attraction', 'Biofeedback therapist', 'Eye care', 'Golf shop', 'Seafood market', 'Forklift dealer', 'Outdoor swimming pool', 'Cocktail bar', 'Sailmaker', 'Insulation contractor', 'Japanese confectionery shop', 'Photography studio', 'Bridge', 'Auto market', 'Fine dining restaurant', 'Bottled water supplier', 'Fixed-base operator', 'Boat club', 'Historical landmark', 'Camping store', 'Metal fabricator', 'Parking lot', 'Peninsula', 'Spanish restaurant', 'Produce market', 'Massage school', 'District court', 'Radiator shop', 'Waste management service', 'Medical Center', 'Video game store', 'Organic food store', 'Sleep clinic', 'Security service', 'Video duplication service', 'Vegetarian restaurant', 'Research foundation', 'Fast food restaurant', 'Private investigator', 'Veterans hospital', 'Drinking water fountain', 'Sewing machine store', 'Recruiter', 'Ethnic restaurant', 'Personal trainer', 'Building materials store', 'Moving supply store', 'Outdoor clothing and equipment shop', 'Real estate', 'Political party office', 'Glass shop', 'Coaching center', 'Dairy farm', 'Movie theater', 'Convenience store', 'Auto bodywork mechanic', 'Carpet store', 'Truck repair shop', 'Public university', 'Aboriginal art gallery', 'Mazda dealer', 'Acupuncture clinic', 'Aviation training institute', 'Appliance parts supplier', 'Appraiser', 'Forklift rental service', 'Car finance and loan company', 'Obstetrician-gynecologist', 'Theater company', 'Jewellery manufacturer', 'Pie shop', 'Dive shop', 'Farm shop', 'Polynesian restaurant', 'Genesis dealer', 'Rowing club', 'Canadian restaurant', 'Public golf course', 'Cell phone charging station', 'Catering', 'Dermatologist', 'Day care center', 'Shipyard', 'Boat repair shop', 'Marine supply store', 'General contractor', 'Statue', 'Chinese restaurant', 'Metal construction company', 'Japanese restaurant', 'Home goods store', 'Money order service', 'Outdoor equestrian facility', 'Cemetery', 'Tapas restaurant', 'Haute couture fashion house', 'Audio visual consultant', 'Dental hygienist', 'E-commerce service', 'Cottage rental', 'Event venue', 'Siding contractor', 'Rest stop', 'Garden center', 'Herbal medicine store', 'Electrical', 'Crane service', 'United Church of Christ', 'Condominium complex', 'Paper store', 'Wheelchair store', 'Zoo', 'Musical instrument rental service', 'Family law attorney', 'Down home cooking restaurant', 'Holiday home', 'Mulch supplier', 'Diagnostic center', 'Pottery store', 'Yamaha motorcycle dealer', 'Northern Italian restaurant', 'Dry wall contractor', 'Container supplier', 'Printing equipment supplier', 'Wine store', 'Pipe supplier', 'Satellite communication service', 'Family counselor', 'RV repair shop', 'Home health care service', 'Fishing charter', 'Cheesesteak restaurant', 'Wicker store', 'Homeless service', 'Asphalt contractor', 'Corporate gift supplier', 'Flooring contractor', 'Lasik surgeon', 'Jaguar dealer', 'Canoe & kayak tour agency', 'Diamond buyer', 'Savings bank', 'Traditional American restaurant', 'Stationery store', 'Security system supplier', 'Mortuary', 'Department of motor vehicles', 'Museum of zoology', 'Glassware store', 'Attorney', 'BBQ area', 'Paintball store', \"Children's amusement center\", 'Art supply store', 'Pakistani restaurant', 'Home improvement store', 'Landmark', 'Ford dealer', 'Tai chi school', 'Sanctuary', 'Sharpening service', 'Aromatherapy supply store', 'Urgent care center', 'Advertising agency', 'Window tinting service', 'Kushiage and kushikatsu restaurant', 'Flooring store', 'Tiki bar', 'Steamed bun shop', 'Pediatric dentist', 'Vascular surgeon', 'Canoeing area', 'Hockey rink', 'Resort hotel', 'Public housing', 'Ballroom', 'Helicopter charter', 'Glass repair service', 'STD testing service', 'Rehabilitation center', 'Psychologist', 'Steak house', 'Construction machine dealer', 'Townhouse complex', 'Mosque', \"Driver's license office\", 'Fish farm', 'Landscaper', 'Diving center', 'Bouncy castle hire', 'Office supply wholesaler', 'Kindergarten', 'Hot water system supplier', 'Portuguese restaurant', 'Ocean', 'Plant nursery', 'Lumber store', 'Southwestern restaurant (US)', 'Skin care clinic', 'Teppanyaki restaurant', 'Live music venue', 'Acupuncturist', 'Stage', 'Protestant church', 'Dance store', 'Office furniture store', 'Jeans shop', 'Tea house', 'School', 'Tack shop', 'Church of Jesus Christ of Latter-day Saints', 'Juice shop', 'Jujitsu school', 'Volkswagen dealer', 'Ready mix concrete supplier', 'Photo booth', 'Mailbox rental service', 'Beauty', 'Gospel church', 'Deli', 'Tourist information center', 'Electric vehicle charging station contractor', 'Laser cutting service', 'Cannabis store', 'Bay', 'Video store', 'Lounge', 'Screen repair service', 'Wheelchair rental service', 'Masonry supply store', 'Car stereo store', 'Ice supplier', 'Alternator supplier', 'Wellness hotel', 'Wholesale bakery', 'Urology clinic', 'Interior decoration', 'Warehouse', 'Police supply store', 'Pool billard club', 'Sporting goods store', 'Airplane', 'Seventh-day Adventist church', 'Beach clothing store', 'Crater', 'Equipment supplier', 'Grocery delivery service', 'Brewpub', 'Fraternal organization', 'Community college', 'Paint store', 'Hawaiian goods store', 'Entertainment agency', 'Kebab shop', 'Livestock producer', 'Souvenir manufacturer', 'Temp agency', 'Obanzai restaurant', 'Student dormitory', 'Jewelry repair service', 'Community garden', 'Physical therapist', 'Venezuelan restaurant', 'Newspaper advertising department', 'Pumping equipment and service', 'German restaurant', 'Honey farm', 'Security system installer', 'Gyro restaurant', 'Miniatures store', 'Sukiyaki and Shabu Shabu restaurant', 'Mill', 'Food products supplier', 'Computer service', 'Event technology service', 'Auto electrical service', 'Portrait studio', 'Kennel', 'Farm equipment supplier', 'Caterer', 'Villa', 'Catholic school', 'Air compressor supplier', 'Hockey', 'Holistic medicine practitioner', 'Food court', 'Wedding planner', 'Mandarin restaurant', 'Crop grower', 'Transit station', 'Hearing aid store', 'Delivery Chinese restaurant', 'MRI center', 'Boat tour agency', 'Off roading area', 'Pharmacy', \"Farmers' market\", 'Fence supply store', 'Charter school', 'Motorcycle repair shop', 'Banner store', 'Car rental', 'Earth works company', 'Theme park', 'Cosmetics store', 'Tourist attraction', 'Finance broker', 'Construction company', 'Gun shop', 'Housing complex', 'Boarding school', 'Public library', 'Farm bureau', 'Cuban restaurant', 'Yoga instructor', 'Loan agency', 'Pizza delivery', 'Telecommunications equipment supplier', 'Dog day care center', 'Airline', \"Workers' club\", 'Mailing machine supplier', 'Wind farm', 'Hair removal service', 'Lava field', 'Soba noodle shop', 'Auto parts market', 'Surf shop', 'Variety store', 'Polythene and plastic sheeting supplier', 'Infiniti dealer', 'Pier', 'Dental implants periodontist', 'Food store', 'Screen printing shop', 'Excavating contractor', 'Tea manufacturer', 'Record store', 'Remodeler', 'Short term apartment rental agency', 'Nature preserve', 'Marriage or relationship counselor', 'Embroidery service', 'First aid kit', 'Boat rental service', 'Roofing contractor', 'Cruise agency', 'Exporter', 'Surf school', 'Laboratory', 'Golf cart dealer', 'Beach entertainment shop', 'Wood floor refinishing service', 'Kiosk', 'Store', 'Decal supplier', 'Boot store', 'Barbecue restaurant', 'Music box store', 'Skate shop', 'Vending machine supplier', 'Modeling agency', 'Animal shelter', 'Dance school', 'Used car dealer', 'Used tire shop', 'Stained glass studio', 'Vista', 'Apartment building', 'Clock repair service', 'Publisher', 'Small plates restaurant', 'Vocal instructor', 'Persian restaurant', 'Boat builders', 'Audiologist', 'Meditation instructor', 'Indoor cycling', 'Angler fish restaurant', 'Veterans affairs department', 'Ravine', 'Fishing pier', 'Social club', 'Beer distributor', 'Animal feed store', 'Chinese tea house', 'Speech pathologist', 'Ammunition supplier', 'Thai restaurant', 'Tile store', 'Dollar store', 'Bubble tea store', 'Museum', 'Psychotherapist', 'Assisted living facility', 'Audio visual equipment repair service', 'Methodist church', 'Irish restaurant', 'Furniture maker', 'Special education school', 'Paving materials supplier', 'Nepalese restaurant', 'Psychiatrist', 'Alcohol manufacturer', 'Skylight contractor', 'Cancer treatment center', 'Lincoln dealer', 'Stamp shop', 'Swimming', 'General hospital', 'Art center', 'Student housing center', 'Foot care', 'Crane rental agency', 'Plastic bag supplier', 'Livestock breeder', 'Ramen restaurant', 'Mobile phone repair shop', 'Lighthouse', 'Mammography service', 'Optician', 'Neurologist', 'Insurance attorney', 'Gas installation service', 'Divorce lawyer', 'Used auto parts store', 'Auto parts manufacturer', 'Mover', 'Guest house', 'Cruise terminal', 'Car battery store', 'University department', 'Animal control service', 'Outerwear store', 'Mortgage lender', 'Dart bar', 'Bail bonds service', 'Architectural designer', 'Auto upholsterer', 'Rubber stamp store', 'Bus stop', 'Money transfer service', 'Greenhouse', 'Gymnasium school', 'Recreation', \"Children's party service\", 'Takeout Restaurant', 'Fire station', 'Monument', 'Self-storage facility', 'Natural history museum', 'Granite supplier', 'Pasta shop', 'Sticker manufacturer', 'Environmental consultant', 'Plywood supplier', 'Lagoon', 'Chinaware store', 'Housing authority', 'Fashion accessories store', 'Dental clinic', 'Consignment shop', 'Luggage repair service', 'Travel clinic', 'Sailing event area', 'Window installation service', 'Federal government office', 'Crab house', 'Media consultant', 'Bank', 'Office space rental agency', 'Fire protection equipment supplier', 'Hair extension technician', 'Community center', 'Unity church', 'Rug store', 'Training provider', 'Crêperie', 'Software company', 'Clothing alteration service', 'Brewery', 'Tempura restaurant', 'Cleaners', 'Body arts', 'Wood floor installation service', 'Golf driving range', 'Paint manufacturer', 'Food service', 'Newsstand', 'Jewelry store', 'Estate planning attorney', 'Poster store', 'Donut shop', 'Commercial refrigerator supplier', 'Disability services & support organisation', 'ATV rental service', 'Tennis store', 'Boat storage facility', 'Fair trade organization', 'Metal heat treating service', 'Barber supply store', 'Middle school', 'Spa and health club', 'Private university', 'Road cycling', 'Kitchen supply store', 'Tattoo removal service', 'Interior Decorator', 'Tropical fish store', 'Graphic designer', 'Adult education school', 'Medical laboratory', 'Tea wholesaler', 'Natural goods store', 'Lawn equipment rental service', 'Canoe & kayak store', 'Yoga retreat center', 'Real estate developer', 'Snack bar', 'Punjabi restaurant', 'Indoor golf course', 'Electrician', 'Vacuum cleaning system supplier', 'Food processing company', 'Grill store', 'News service', 'Clothes and fabric wholesaler', 'Weightlifting area', 'Language school', 'Martial arts supply store', 'International airport', 'Swimwear store', 'Skateboard shop', 'Air compressor repair service', 'Real estate appraiser', 'Chinese takeaway', 'Hot tub repair service', 'Sewing machine repair service', 'Alcoholic beverage wholesaler', 'Youth organization', 'Used musical instrument store', 'Chamber of Commerce', 'Mexican torta restaurant', 'Dairy', 'Cabinet store', 'Phone repair service', 'Nursing home', 'Athletic club', 'Aquarium', 'Public beach', 'Airport shuttle service', 'Payphone', 'Sushi takeaway', 'Musical instrument repair shop', 'Electric motor store', 'County court', 'Mechanical contractor', 'Abrasives supplier', 'Sports complex']\n"
     ]
    }
   ],
   "source": [
    "unique_categories = set()\n",
    "\n",
    "for business in businesses:\n",
    "    categories = business.get('category')    \n",
    "    if categories:\n",
    "        unique_categories.update(categories)\n",
    "\n",
    "unique_categories_list = list(unique_categories)\n",
    "\n",
    "print(unique_categories_list)\n"
   ]
  },
  {
   "cell_type": "markdown",
   "metadata": {},
   "source": [
    "### Feature Engineering"
   ]
  },
  {
   "cell_type": "code",
   "execution_count": 4,
   "metadata": {},
   "outputs": [
    {
     "name": "stdout",
     "output_type": "stream",
     "text": [
      "User ID: 113965417079576625433, Average Rating: 4.91\n",
      "User ID: 116655819137293331166, Average Rating: 4.73\n",
      "User ID: 100834119994550070853, Average Rating: 4.94\n",
      "User ID: 103207214144482097315, Average Rating: 4.64\n",
      "User ID: 108526171163172578599, Average Rating: 3.48\n"
     ]
    }
   ],
   "source": [
    "#user avg rating\n",
    "user_ratings = {}\n",
    "\n",
    "for review in users_reviews:\n",
    "    user_id = review.get('user_id')\n",
    "    rating = review.get('rating')\n",
    "\n",
    "    if user_id is not None and rating is not None:\n",
    "        if user_id not in user_ratings:\n",
    "            user_ratings[user_id] = {'total_rating': 0, 'count': 0}\n",
    "        \n",
    "        user_ratings[user_id]['total_rating'] += rating\n",
    "        user_ratings[user_id]['count'] += 1\n",
    "\n",
    "user_avg_ratings = {user_id: data['total_rating'] / data['count'] \n",
    "                    for user_id, data in user_ratings.items() if data['count'] > 0}\n",
    "\n",
    "for user_id in list(user_avg_ratings.keys())[:5]:\n",
    "    print(f\"User ID: {user_id}, Average Rating: {user_avg_ratings[user_id]:.2f}\")"
   ]
  },
  {
   "cell_type": "code",
   "execution_count": 5,
   "metadata": {},
   "outputs": [],
   "source": [
    "#businuess img count\n",
    "image_counts = {}\n",
    "\n",
    "for review in users_reviews:\n",
    "    gmap_id = review.get('gmap_id')\n",
    "    images = review.get('pics')\n",
    "\n",
    "    if gmap_id and images:\n",
    "        num_images = len(images)\n",
    "        if gmap_id in image_counts:\n",
    "            image_counts[gmap_id] += num_images\n",
    "        else:\n",
    "            image_counts[gmap_id] = num_images"
   ]
  },
  {
   "cell_type": "code",
   "execution_count": 6,
   "metadata": {},
   "outputs": [],
   "source": [
    "response_counts = {}\n",
    "\n",
    "for review in users_reviews:\n",
    "    gmap_id = review.get('gmap_id')\n",
    "    response = review.get('resp')\n",
    "\n",
    "    if gmap_id and response:\n",
    "        if gmap_id in response_counts:\n",
    "            response_counts[gmap_id] += 1\n",
    "        else:\n",
    "            response_counts[gmap_id] = 1"
   ]
  },
  {
   "cell_type": "code",
   "execution_count": 7,
   "metadata": {},
   "outputs": [],
   "source": [
    "users_data = [{'user_id': d['user_id'], 'gmap_id': d['gmap_id'], 'rating': d['rating'],'text': d['text']} \n",
    "              for d in users_reviews if 'user_id' in d and 'gmap_id' in d and 'rating' in d and 'text' in d]\n",
    "\n",
    "business_dict = {d['gmap_id']: {'avg_rating': d.get('avg_rating', 0), \n",
    "                                'num_of_reviews': d.get('num_of_reviews', 0)}\n",
    "                 for d in businesses if 'gmap_id' in d}"
   ]
  },
  {
   "cell_type": "code",
   "execution_count": 8,
   "metadata": {},
   "outputs": [],
   "source": [
    "features = [{'user_id': d['user_id'], 'gmap_id': d['gmap_id'], 'text': d['text'], \n",
    "             'user_avg_rating': user_avg_ratings[d['user_id']], \n",
    "             'response_count': response_counts.get(d['gmap_id'], 0), \n",
    "             'image_counts': image_counts.get(d['gmap_id'], 0),\n",
    "             'bus_avg_rating': business_dict[d['gmap_id']]['avg_rating'], \n",
    "             'num_of_reviews': business_dict[d['gmap_id']]['num_of_reviews']}\n",
    "            for d in users_reviews if 'user_id' in d and 'gmap_id' in d and 'rating' in d and 'text' in d]\n",
    "labels = [d['rating'] for d in users_reviews if 'user_id' in d and 'gmap_id' in d and 'rating' in d and 'text' in d]\n",
    "    "
   ]
  },
  {
   "cell_type": "code",
   "execution_count": 9,
   "metadata": {},
   "outputs": [],
   "source": [
    "random.seed(12345)\n",
    "combined = list(zip(features, labels))\n",
    "random.shuffle(combined)\n",
    "features[:], labels[:] = zip(*combined)"
   ]
  },
  {
   "cell_type": "markdown",
   "metadata": {},
   "source": [
    "## Linear Regression"
   ]
  },
  {
   "cell_type": "code",
   "execution_count": 10,
   "metadata": {},
   "outputs": [
    {
     "data": {
      "text/plain": [
       "{'user_id': '118019878707665188743',\n",
       " 'gmap_id': '0x7eaad5b76010bf61:0xd3730662460d3b4f',\n",
       " 'text': 'Absolutely Beautiful! Stunning one of a kind views and Amazing eats! Enjoy!',\n",
       " 'user_avg_rating': 5.0,\n",
       " 'response_count': 3,\n",
       " 'image_counts': 24,\n",
       " 'bus_avg_rating': 4.2,\n",
       " 'num_of_reviews': 326}"
      ]
     },
     "execution_count": 10,
     "metadata": {},
     "output_type": "execute_result"
    }
   ],
   "source": [
    "features[0]"
   ]
  },
  {
   "cell_type": "code",
   "execution_count": 11,
   "metadata": {},
   "outputs": [],
   "source": [
    "def MSE(predictions, labels):\n",
    "    differences = [(x - y) ** 2 for x, y in zip(predictions, labels)]\n",
    "    return sum(differences) / len(differences)"
   ]
  },
  {
   "cell_type": "code",
   "execution_count": 12,
   "metadata": {},
   "outputs": [],
   "source": [
    "def MAE(predictions, labels):\n",
    "    differences = [abs(x - y) for x, y in zip(predictions, labels)]\n",
    "    return sum(differences) / len(differences)"
   ]
  },
  {
   "cell_type": "code",
   "execution_count": 13,
   "metadata": {},
   "outputs": [],
   "source": [
    "# split dataset\n",
    "split_index = int(len(features) * 0.9)\n",
    "train_features = features[:split_index]\n",
    "test_features = features[split_index:]\n",
    "train_labels = labels[:split_index]\n",
    "test_labels = labels[split_index:]"
   ]
  },
  {
   "cell_type": "markdown",
   "metadata": {},
   "source": [
    "### Baseline Model 1: avg_rating"
   ]
  },
  {
   "cell_type": "code",
   "execution_count": 14,
   "metadata": {},
   "outputs": [],
   "source": [
    "# extract features\n",
    "train_X = [[1, d['bus_avg_rating']] for d in train_features]\n",
    "test_X = [[1, d['bus_avg_rating']] for d in test_features]\n",
    "train_y = train_labels\n",
    "test_y = test_labels"
   ]
  },
  {
   "cell_type": "code",
   "execution_count": 15,
   "metadata": {},
   "outputs": [],
   "source": [
    "# train model\n",
    "model = linear_model.LinearRegression(fit_intercept=False)\n",
    "model.fit(train_X, train_y)\n",
    "predictions = model.predict(test_X)"
   ]
  },
  {
   "cell_type": "code",
   "execution_count": 16,
   "metadata": {},
   "outputs": [
    {
     "data": {
      "text/plain": [
       "0.7849375126098747"
      ]
     },
     "execution_count": 16,
     "metadata": {},
     "output_type": "execute_result"
    }
   ],
   "source": [
    "mse = MSE(predictions, test_y)\n",
    "mse"
   ]
  },
  {
   "cell_type": "markdown",
   "metadata": {},
   "source": [
    "### Baseline Model 2: user_avg_rating"
   ]
  },
  {
   "cell_type": "code",
   "execution_count": 17,
   "metadata": {},
   "outputs": [],
   "source": [
    "train_X = [[1, d['user_avg_rating']] for d in train_features]\n",
    "test_X = [[1, d['user_avg_rating']] for d in test_features]\n",
    "train_y = train_labels\n",
    "test_y = test_labels"
   ]
  },
  {
   "cell_type": "code",
   "execution_count": 18,
   "metadata": {},
   "outputs": [],
   "source": [
    "# train model\n",
    "model = linear_model.LinearRegression(fit_intercept=False)\n",
    "model.fit(train_X, train_y)\n",
    "predictions = model.predict(test_X)"
   ]
  },
  {
   "cell_type": "code",
   "execution_count": 19,
   "metadata": {},
   "outputs": [
    {
     "data": {
      "text/plain": [
       "0.6205286094204722"
      ]
     },
     "execution_count": 19,
     "metadata": {},
     "output_type": "execute_result"
    }
   ],
   "source": [
    "mse = MSE(predictions, test_y)\n",
    "mse"
   ]
  },
  {
   "cell_type": "markdown",
   "metadata": {},
   "source": [
    "### Model 3: avg_rating, user_avg_rating"
   ]
  },
  {
   "cell_type": "code",
   "execution_count": 20,
   "metadata": {},
   "outputs": [],
   "source": [
    "train_X = [[1, d['user_avg_rating'], d['bus_avg_rating']] for d in train_features]\n",
    "test_X = [[1, d['user_avg_rating'], d['bus_avg_rating']] for d in test_features]\n",
    "train_y = train_labels\n",
    "test_y = test_labels"
   ]
  },
  {
   "cell_type": "code",
   "execution_count": 21,
   "metadata": {},
   "outputs": [],
   "source": [
    "# train model\n",
    "model = linear_model.LinearRegression(fit_intercept=False)\n",
    "model.fit(train_X, train_y)\n",
    "predictions = model.predict(test_X)"
   ]
  },
  {
   "cell_type": "code",
   "execution_count": 22,
   "metadata": {},
   "outputs": [
    {
     "data": {
      "text/plain": [
       "0.5779212048040041"
      ]
     },
     "execution_count": 22,
     "metadata": {},
     "output_type": "execute_result"
    }
   ],
   "source": [
    "mse = MSE(predictions, test_y)\n",
    "mse"
   ]
  },
  {
   "cell_type": "markdown",
   "metadata": {},
   "source": [
    "### Model 4: avg_rating, user_avg_rating, num_of_reviews"
   ]
  },
  {
   "cell_type": "code",
   "execution_count": 23,
   "metadata": {},
   "outputs": [],
   "source": [
    "train_X = [[1, d['user_avg_rating'], d['bus_avg_rating'], d['num_of_reviews']] for d in train_features]\n",
    "test_X = [[1, d['user_avg_rating'], d['bus_avg_rating'], d['num_of_reviews']] for d in test_features]\n",
    "train_y = train_labels\n",
    "test_y = test_labels"
   ]
  },
  {
   "cell_type": "code",
   "execution_count": 24,
   "metadata": {},
   "outputs": [],
   "source": [
    "# train model\n",
    "model = linear_model.LinearRegression(fit_intercept=False)\n",
    "model.fit(train_X, train_y)\n",
    "predictions = model.predict(test_X)"
   ]
  },
  {
   "cell_type": "code",
   "execution_count": 25,
   "metadata": {},
   "outputs": [
    {
     "data": {
      "text/plain": [
       "0.5779095125296335"
      ]
     },
     "execution_count": 25,
     "metadata": {},
     "output_type": "execute_result"
    }
   ],
   "source": [
    "mse = MSE(predictions, test_y)\n",
    "mse"
   ]
  },
  {
   "cell_type": "markdown",
   "metadata": {},
   "source": [
    "### Model 5"
   ]
  },
  {
   "cell_type": "code",
   "execution_count": 26,
   "metadata": {},
   "outputs": [],
   "source": [
    "train_X = [[1, d['user_avg_rating'], d['bus_avg_rating'], d['num_of_reviews'], d['image_counts']] for d in train_features]\n",
    "test_X = [[1, d['user_avg_rating'], d['bus_avg_rating'], d['num_of_reviews'], d['image_counts']] for d in test_features]\n",
    "train_y = train_labels\n",
    "test_y = test_labels"
   ]
  },
  {
   "cell_type": "code",
   "execution_count": 27,
   "metadata": {},
   "outputs": [],
   "source": [
    "# train model\n",
    "model = linear_model.LinearRegression(fit_intercept=False)\n",
    "model.fit(train_X, train_y)\n",
    "predictions = model.predict(test_X)"
   ]
  },
  {
   "cell_type": "code",
   "execution_count": 28,
   "metadata": {},
   "outputs": [
    {
     "data": {
      "text/plain": [
       "0.5779080405709329"
      ]
     },
     "execution_count": 28,
     "metadata": {},
     "output_type": "execute_result"
    }
   ],
   "source": [
    "mse = MSE(predictions, test_y)\n",
    "mse"
   ]
  }
 ],
 "metadata": {
  "kernelspec": {
   "display_name": "Python 3.9.6 64-bit",
   "language": "python",
   "name": "python3"
  },
  "language_info": {
   "codemirror_mode": {
    "name": "ipython",
    "version": 3
   },
   "file_extension": ".py",
   "mimetype": "text/x-python",
   "name": "python",
   "nbconvert_exporter": "python",
   "pygments_lexer": "ipython3",
   "version": "3.9.6"
  },
  "vscode": {
   "interpreter": {
    "hash": "31f2aee4e71d21fbe5cf8b01ff0e069b9275f58929596ceb00d14d90e3e16cd6"
   }
  }
 },
 "nbformat": 4,
 "nbformat_minor": 2
}
